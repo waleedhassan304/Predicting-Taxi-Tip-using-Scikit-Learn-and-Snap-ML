{
  "cells": [
    {
      "cell_type": "markdown",
      "metadata": {
        "id": "view-in-github",
        "colab_type": "text"
      },
      "source": [
        "<a href=\"https://colab.research.google.com/github/waleedhassan304/Predicting-Taxi-Tip-using-Scikit-Learn-and-Snap-ML/blob/main/taxi_tip_prediction_using_scikit_learn_and_snap_ml.ipynb\" target=\"_parent\"><img src=\"https://colab.research.google.com/assets/colab-badge.svg\" alt=\"Open In Colab\"/></a>"
      ]
    },
    {
      "cell_type": "markdown",
      "metadata": {
        "id": "oVsEsiOfRdWJ"
      },
      "source": [
        "# **Taxi Tip Prediction using Scikit-Learn and Snap ML**\n"
      ]
    },
    {
      "cell_type": "markdown",
      "metadata": {
        "id": "x4XPlVbVRdWJ"
      },
      "source": [
        "Estimated time needed: **30** minutes\n"
      ]
    },
    {
      "cell_type": "markdown",
      "metadata": {
        "id": "97YiZr6kRdWK"
      },
      "source": [
        "**Snap ML** is a high-performance IBM library for ML modeling. It provides highly-efficient CPU/GPU implementations of linear models and tree-based models. Snap ML not only accelerates ML algorithms through system awareness, but also offers novel ML algorithms with best-in-class accuracy. \n",
        "\n",
        "\n",
        "<img src=\"https://cf-courses-data.s3.us.cloud-object-storage.appdomain.cloud/IBM-GPXX0AXIEN/images/light-traffic-street-night-photography-glass-734324-pxhere.com.jpg\" width=\"65%\">\n"
      ]
    },
    {
      "cell_type": "markdown",
      "metadata": {
        "tags": [],
        "id": "GsGXyTskRdWK"
      },
      "source": []
    },
    {
      "cell_type": "markdown",
      "metadata": {
        "id": "aYmTOLDFRdWL"
      },
      "source": [
        "## Objectives\n",
        "\n",
        "We will perform following tasks in genral:\n",
        "\n",
        "* Perform basic data preprocessing using Scikit-Learn\n",
        "* Model a regression task using the Scikit-Learn and Snap ML Python APIs\n",
        "* Train a Decision Tree Regressor model using Scikit-Learn and Snap ML\n",
        "* Run inference and assess the quality of the trained models\n"
      ]
    },
    {
      "cell_type": "markdown",
      "metadata": {
        "id": "bUdw_-LhRdWL"
      },
      "source": [
        "----\n"
      ]
    },
    {
      "cell_type": "markdown",
      "metadata": {
        "id": "o-MqncGJRdWL"
      },
      "source": [
        "## Setup\n"
      ]
    },
    {
      "cell_type": "markdown",
      "metadata": {
        "id": "yPWNBjgrRdWL"
      },
      "source": [
        "\n"
      ]
    },
    {
      "cell_type": "markdown",
      "metadata": {
        "id": "C92nYLPzRdWM"
      },
      "source": [
        "### Installing Required Libraries\n",
        "\n",
        "The following required libraries are pre-installed in the Skills Network Labs environment. However, if you run this notebook commands in a different Jupyter environment (e.g. Watson Studio or Anaconda), you will need to install these libraries by removing the `#` sign before `!mamba` in the code cell below.\n"
      ]
    },
    {
      "cell_type": "code",
      "execution_count": null,
      "metadata": {
        "id": "tA382QhFRdWM"
      },
      "outputs": [],
      "source": [
        "# All Libraries required for this lab are listed below. The libraries pre-installed on Skills Network Labs are commented.\n",
        "# !mamba install -qy pandas==1.3.4 numpy==1.21.4 seaborn==0.9.0 matplotlib==3.5.0 scikit-learn==0.20.1\n",
        "# Note: If your environment doesn't support \"!mamba install\", use \"!pip install\""
      ]
    },
    {
      "cell_type": "markdown",
      "metadata": {
        "id": "SDnDg-2qRdWN"
      },
      "source": [
        "you will need to run the following cell__ to install them:\n"
      ]
    },
    {
      "cell_type": "code",
      "execution_count": null,
      "metadata": {
        "id": "hctJUoIlRdWN",
        "outputId": "5f4ee527-854f-4d44-b837-09fc1494c7c0"
      },
      "outputs": [
        {
          "name": "stdout",
          "output_type": "stream",
          "text": [
            "Requirement already satisfied: snapml in /home/jupyterlab/conda/envs/python/lib/python3.7/site-packages (1.11.1)\n",
            "Requirement already satisfied: numpy>=1.18.5 in /home/jupyterlab/conda/envs/python/lib/python3.7/site-packages (from snapml) (1.21.6)\n",
            "Requirement already satisfied: scikit-learn in /home/jupyterlab/conda/envs/python/lib/python3.7/site-packages (from snapml) (0.20.1)\n",
            "Requirement already satisfied: scipy in /home/jupyterlab/conda/envs/python/lib/python3.7/site-packages (from snapml) (1.7.3)\n"
          ]
        }
      ],
      "source": [
        "!pip install snapml"
      ]
    },
    {
      "cell_type": "markdown",
      "metadata": {
        "id": "lrTMWtTHRdWO"
      },
      "source": [
        "\n"
      ]
    },
    {
      "cell_type": "code",
      "execution_count": null,
      "metadata": {
        "id": "ZHyAepyFRdWO"
      },
      "outputs": [],
      "source": [
        "from __future__ import print_function\n",
        "from tqdm import tqdm\n",
        "\n",
        "# You can also use this section to suppress warnings generated by your code:\n",
        "def warn(*args, **kwargs):\n",
        "    pass\n",
        "import warnings\n",
        "warnings.warn = warn\n",
        "warnings.filterwarnings('ignore')\n",
        "\n",
        "import numpy as np\n",
        "import pandas as pd\n",
        "import seaborn as sns\n",
        "import matplotlib.pyplot as plt\n",
        "%matplotlib inline\n",
        "from sklearn.model_selection import train_test_split\n",
        "from sklearn.preprocessing import Normalizer, StandardScaler, MinMaxScaler\n",
        "from sklearn.utils.class_weight import compute_sample_weight\n",
        "from sklearn.metrics import mean_squared_error\n",
        "import time\n",
        "import warnings\n",
        "import gc, sys\n",
        "\n",
        "sns.set_context('notebook')\n",
        "sns.set_style('white')"
      ]
    },
    {
      "cell_type": "markdown",
      "metadata": {
        "id": "07k7SXnIRdWO"
      },
      "source": [
        "### Defining Helper Functions\n"
      ]
    },
    {
      "cell_type": "code",
      "execution_count": null,
      "metadata": {
        "id": "GpAl1jyvRdWO"
      },
      "outputs": [],
      "source": [
        "def memory_optimize(df):\n",
        "    \n",
        "    \"\"\"\n",
        "    optimize data types to reduce memory usage\n",
        "    \n",
        "    \"\"\"\n",
        "    for col in df.columns:\n",
        "        if df[col].dtype == 'float':\n",
        "            col_min = df[col].min()\n",
        "            col_max = df[col].max()\n",
        "\n",
        "            if col_min > np.finfo(np.float32).min and col_max < np.finfo(np.float32).max:\n",
        "                df[col] = df[col].astype(np.float32)\n",
        "\n",
        "        elif df[col].dtype == 'int':\n",
        "            col_min = df[col].min()\n",
        "            col_max = df[col].max()\n",
        "\n",
        "            if col_max < np.iinfo(np.int8).max and col_min > np.iinfo(np.int8).min:\n",
        "                df[col] = df[col].astype(np.int8)\n",
        "            elif col_max < np.iinfo(np.int16).max and col_min > np.iinfo(np.int16).min:\n",
        "                df[col] = df[col].astype(np.int16)\n",
        "            elif col_max < np.iinfo(np.int32).max and col_min > np.iinfo(np.int32).min:\n",
        "                df[col] = df[col].astype(np.int32)\n",
        "    \n",
        "    return df"
      ]
    },
    {
      "cell_type": "markdown",
      "metadata": {
        "id": "9vjEFyWaRdWO"
      },
      "source": [
        "## Introduction\n",
        "\n",
        "The dataset used in this exercise session is publicly available [here](https://www1.nyc.gov/site/tlc/about/tlc-trip-record-data.page?utm_medium=Exinfluencer&utm_source=Exinfluencer&utm_content=000026UJ&utm_term=10006555&utm_id=NA-SkillsNetwork-Channel-SkillsNetworkGuidedProjectsIBMGPXX0AXIEN90-2022-01-01) (all rights reserved by Taxi & Limousine Commission(TLC), City of New York). The TLC Yellow Taxi Trip Records of June, 2019 are used in this notebook. **The prediction of the tip amount can be modeled as a regression problem**. To train the model you can use part of the input dataset and the remaining data can be used to assess the quality of the trained model. First, let's download the dataset.\n"
      ]
    },
    {
      "cell_type": "markdown",
      "metadata": {
        "id": "-Fzp2h41RdWP"
      },
      "source": [
        "## Downloading the Dataset\n"
      ]
    },
    {
      "cell_type": "markdown",
      "metadata": {
        "id": "QCrZWZLyRdWP"
      },
      "source": [
        "There were originally 7M observations in the dataset. Ideally you will use the full dataset for this exercise. However, to avoid running into out of memory issues due to the data size, we will reduce the size by taking a sample of the first 1M observations. We will only work with the 1M observations for the rest of this project.\n"
      ]
    },
    {
      "cell_type": "markdown",
      "metadata": {
        "id": "vOBPcn-3RdWP"
      },
      "source": [
        "I have used  the prepare function from the SKills Network library to download the raw data file from IBM Cloud Storage.\n"
      ]
    },
    {
      "cell_type": "code",
      "execution_count": null,
      "metadata": {
        "colab": {
          "referenced_widgets": [
            "283bced6c6a54ba2af30c475c85a59e6",
            "2ea636b382834283bb30ec5eb646748a"
          ]
        },
        "id": "q34m8_gcRdWP",
        "outputId": "086a7c14-d739-406c-80dd-4afe8ab516c0"
      },
      "outputs": [
        {
          "data": {
            "application/vnd.jupyter.widget-view+json": {
              "model_id": "283bced6c6a54ba2af30c475c85a59e6",
              "version_major": 2,
              "version_minor": 0
            },
            "text/plain": [
              "Downloading yellow_tripdata_2019-06_1M.tgz:   0%|          | 0/15236974 [00:00<?, ?it/s]"
            ]
          },
          "metadata": {},
          "output_type": "display_data"
        },
        {
          "data": {
            "application/vnd.jupyter.widget-view+json": {
              "model_id": "2ea636b382834283bb30ec5eb646748a",
              "version_major": 2,
              "version_minor": 0
            },
            "text/plain": [
              "  0%|          | 0/2 [00:00<?, ?it/s]"
            ]
          },
          "metadata": {},
          "output_type": "display_data"
        },
        {
          "name": "stdout",
          "output_type": "stream",
          "text": [
            "Saved to '.'\n"
          ]
        }
      ],
      "source": [
        "import skillsnetwork\n",
        "\n",
        "await skillsnetwork.prepare(\"https://cf-courses-data.s3.us.cloud-object-storage.appdomain.cloud/IBM-GPXX0AXIEN/data/yellow_tripdata_2019-06_1M.tgz\", overwrite = True)"
      ]
    },
    {
      "cell_type": "markdown",
      "metadata": {
        "id": "67LNpwm7RdWP"
      },
      "source": [
        "## Dataset Analysis\n"
      ]
    },
    {
      "cell_type": "markdown",
      "metadata": {
        "id": "mg-JenD7RdWQ"
      },
      "source": [
        "We will look at some summary statistics.\n",
        "\n",
        "\n",
        "\n"
      ]
    },
    {
      "cell_type": "markdown",
      "metadata": {
        "id": "MZMQ6dF5RdWQ"
      },
      "source": [
        "Read the input data:\n"
      ]
    },
    {
      "cell_type": "code",
      "execution_count": null,
      "metadata": {
        "id": "xHPp-5CnRdWQ",
        "outputId": "05874362-f46f-48f7-8ef1-d5f83e32df3b"
      },
      "outputs": [
        {
          "name": "stdout",
          "output_type": "stream",
          "text": [
            "There are 1000000 observations in the dataset.\n",
            "There are 19 variables in the dataset.\n"
          ]
        }
      ],
      "source": [
        "raw_data = pd.read_csv('yellow_tripdata_2019-06_1M.csv')\n",
        "print(\"There are \" + str(len(raw_data)) + \" observations in the dataset.\")\n",
        "print(\"There are \" + str(len(raw_data.columns)) + \" variables in the dataset.\")"
      ]
    },
    {
      "cell_type": "markdown",
      "metadata": {
        "id": "Pt6iYjO3RdWQ"
      },
      "source": [
        "Display first rows in the dataset:\n"
      ]
    },
    {
      "cell_type": "code",
      "execution_count": null,
      "metadata": {
        "id": "JtNllSduRdWQ",
        "outputId": "81e94a7c-2f3c-47bc-e38c-860ee564234a"
      },
      "outputs": [
        {
          "data": {
            "text/html": [
              "<div>\n",
              "<style scoped>\n",
              "    .dataframe tbody tr th:only-of-type {\n",
              "        vertical-align: middle;\n",
              "    }\n",
              "\n",
              "    .dataframe tbody tr th {\n",
              "        vertical-align: top;\n",
              "    }\n",
              "\n",
              "    .dataframe thead th {\n",
              "        text-align: right;\n",
              "    }\n",
              "</style>\n",
              "<table border=\"1\" class=\"dataframe\">\n",
              "  <thead>\n",
              "    <tr style=\"text-align: right;\">\n",
              "      <th></th>\n",
              "      <th>VendorID</th>\n",
              "      <th>tpep_pickup_datetime</th>\n",
              "      <th>tpep_dropoff_datetime</th>\n",
              "      <th>passenger_count</th>\n",
              "      <th>trip_distance</th>\n",
              "      <th>RatecodeID</th>\n",
              "      <th>store_and_fwd_flag</th>\n",
              "      <th>PULocationID</th>\n",
              "      <th>DOLocationID</th>\n",
              "      <th>payment_type</th>\n",
              "      <th>fare_amount</th>\n",
              "      <th>extra</th>\n",
              "      <th>mta_tax</th>\n",
              "      <th>tip_amount</th>\n",
              "      <th>tolls_amount</th>\n",
              "      <th>improvement_surcharge</th>\n",
              "      <th>total_amount</th>\n",
              "      <th>congestion_surcharge</th>\n",
              "      <th>airport_fee</th>\n",
              "    </tr>\n",
              "  </thead>\n",
              "  <tbody>\n",
              "    <tr>\n",
              "      <th>0</th>\n",
              "      <td>1</td>\n",
              "      <td>2019-06-01 0:55</td>\n",
              "      <td>2019-06-01 0:56</td>\n",
              "      <td>1</td>\n",
              "      <td>0.0</td>\n",
              "      <td>1</td>\n",
              "      <td>N</td>\n",
              "      <td>145</td>\n",
              "      <td>145</td>\n",
              "      <td>2</td>\n",
              "      <td>3.0</td>\n",
              "      <td>0.5</td>\n",
              "      <td>0.5</td>\n",
              "      <td>0.00</td>\n",
              "      <td>0.0</td>\n",
              "      <td>0.3</td>\n",
              "      <td>4.30</td>\n",
              "      <td>0.0</td>\n",
              "      <td>NaN</td>\n",
              "    </tr>\n",
              "    <tr>\n",
              "      <th>1</th>\n",
              "      <td>1</td>\n",
              "      <td>2019-06-01 0:06</td>\n",
              "      <td>2019-06-01 0:06</td>\n",
              "      <td>1</td>\n",
              "      <td>0.0</td>\n",
              "      <td>1</td>\n",
              "      <td>N</td>\n",
              "      <td>262</td>\n",
              "      <td>263</td>\n",
              "      <td>2</td>\n",
              "      <td>2.5</td>\n",
              "      <td>3.0</td>\n",
              "      <td>0.5</td>\n",
              "      <td>0.00</td>\n",
              "      <td>0.0</td>\n",
              "      <td>0.3</td>\n",
              "      <td>6.30</td>\n",
              "      <td>2.5</td>\n",
              "      <td>NaN</td>\n",
              "    </tr>\n",
              "    <tr>\n",
              "      <th>2</th>\n",
              "      <td>1</td>\n",
              "      <td>2019-06-01 0:17</td>\n",
              "      <td>2019-06-01 0:36</td>\n",
              "      <td>1</td>\n",
              "      <td>4.4</td>\n",
              "      <td>1</td>\n",
              "      <td>N</td>\n",
              "      <td>74</td>\n",
              "      <td>7</td>\n",
              "      <td>2</td>\n",
              "      <td>17.5</td>\n",
              "      <td>0.5</td>\n",
              "      <td>0.5</td>\n",
              "      <td>0.00</td>\n",
              "      <td>0.0</td>\n",
              "      <td>0.3</td>\n",
              "      <td>18.80</td>\n",
              "      <td>0.0</td>\n",
              "      <td>NaN</td>\n",
              "    </tr>\n",
              "    <tr>\n",
              "      <th>3</th>\n",
              "      <td>1</td>\n",
              "      <td>2019-06-01 0:59</td>\n",
              "      <td>2019-06-01 0:59</td>\n",
              "      <td>0</td>\n",
              "      <td>0.8</td>\n",
              "      <td>1</td>\n",
              "      <td>N</td>\n",
              "      <td>145</td>\n",
              "      <td>145</td>\n",
              "      <td>2</td>\n",
              "      <td>2.5</td>\n",
              "      <td>1.0</td>\n",
              "      <td>0.5</td>\n",
              "      <td>0.00</td>\n",
              "      <td>0.0</td>\n",
              "      <td>0.3</td>\n",
              "      <td>4.30</td>\n",
              "      <td>0.0</td>\n",
              "      <td>NaN</td>\n",
              "    </tr>\n",
              "    <tr>\n",
              "      <th>4</th>\n",
              "      <td>1</td>\n",
              "      <td>2019-06-01 0:03</td>\n",
              "      <td>2019-06-01 0:15</td>\n",
              "      <td>1</td>\n",
              "      <td>1.7</td>\n",
              "      <td>1</td>\n",
              "      <td>N</td>\n",
              "      <td>113</td>\n",
              "      <td>148</td>\n",
              "      <td>1</td>\n",
              "      <td>9.5</td>\n",
              "      <td>3.0</td>\n",
              "      <td>0.5</td>\n",
              "      <td>2.65</td>\n",
              "      <td>0.0</td>\n",
              "      <td>0.3</td>\n",
              "      <td>15.95</td>\n",
              "      <td>2.5</td>\n",
              "      <td>NaN</td>\n",
              "    </tr>\n",
              "  </tbody>\n",
              "</table>\n",
              "</div>"
            ],
            "text/plain": [
              "   VendorID tpep_pickup_datetime tpep_dropoff_datetime  passenger_count  \\\n",
              "0         1      2019-06-01 0:55       2019-06-01 0:56                1   \n",
              "1         1      2019-06-01 0:06       2019-06-01 0:06                1   \n",
              "2         1      2019-06-01 0:17       2019-06-01 0:36                1   \n",
              "3         1      2019-06-01 0:59       2019-06-01 0:59                0   \n",
              "4         1      2019-06-01 0:03       2019-06-01 0:15                1   \n",
              "\n",
              "   trip_distance  RatecodeID store_and_fwd_flag  PULocationID  DOLocationID  \\\n",
              "0            0.0           1                  N           145           145   \n",
              "1            0.0           1                  N           262           263   \n",
              "2            4.4           1                  N            74             7   \n",
              "3            0.8           1                  N           145           145   \n",
              "4            1.7           1                  N           113           148   \n",
              "\n",
              "   payment_type  fare_amount  extra  mta_tax  tip_amount  tolls_amount  \\\n",
              "0             2          3.0    0.5      0.5        0.00           0.0   \n",
              "1             2          2.5    3.0      0.5        0.00           0.0   \n",
              "2             2         17.5    0.5      0.5        0.00           0.0   \n",
              "3             2          2.5    1.0      0.5        0.00           0.0   \n",
              "4             1          9.5    3.0      0.5        2.65           0.0   \n",
              "\n",
              "   improvement_surcharge  total_amount  congestion_surcharge  airport_fee  \n",
              "0                    0.3          4.30                   0.0          NaN  \n",
              "1                    0.3          6.30                   2.5          NaN  \n",
              "2                    0.3         18.80                   0.0          NaN  \n",
              "3                    0.3          4.30                   0.0          NaN  \n",
              "4                    0.3         15.95                   2.5          NaN  "
            ]
          },
          "execution_count": 7,
          "metadata": {},
          "output_type": "execute_result"
        }
      ],
      "source": [
        "raw_data.head()"
      ]
    },
    {
      "cell_type": "markdown",
      "metadata": {
        "id": "YiPOdm6ORdWQ"
      },
      "source": [
        "Each row in the dataset represents a taxi trip. As shown above, each row has 18 variables. One variable is called `tip_amount` and represents the target variable. Your objective will be to train a model that uses the other variables to predict the value of the `tip_amount` variable. Let's first clean the dataset and retrieve basic statistics about the target variable.\n"
      ]
    },
    {
      "cell_type": "markdown",
      "metadata": {
        "id": "TPwdf2oURdWR"
      },
      "source": [
        "Some trips report 0 tip. It is assumed that these tips were paid in cash. For this study we drop all these rows:\n"
      ]
    },
    {
      "cell_type": "code",
      "execution_count": null,
      "metadata": {
        "id": "yh7-vyXzRdWR",
        "outputId": "13bd42da-62f8-4481-caea-d9836403bcd2"
      },
      "outputs": [
        {
          "data": {
            "text/html": [
              "<div>\n",
              "<style scoped>\n",
              "    .dataframe tbody tr th:only-of-type {\n",
              "        vertical-align: middle;\n",
              "    }\n",
              "\n",
              "    .dataframe tbody tr th {\n",
              "        vertical-align: top;\n",
              "    }\n",
              "\n",
              "    .dataframe thead th {\n",
              "        text-align: right;\n",
              "    }\n",
              "</style>\n",
              "<table border=\"1\" class=\"dataframe\">\n",
              "  <thead>\n",
              "    <tr style=\"text-align: right;\">\n",
              "      <th></th>\n",
              "      <th>VendorID</th>\n",
              "      <th>tpep_pickup_datetime</th>\n",
              "      <th>tpep_dropoff_datetime</th>\n",
              "      <th>passenger_count</th>\n",
              "      <th>trip_distance</th>\n",
              "      <th>RatecodeID</th>\n",
              "      <th>store_and_fwd_flag</th>\n",
              "      <th>PULocationID</th>\n",
              "      <th>DOLocationID</th>\n",
              "      <th>payment_type</th>\n",
              "      <th>fare_amount</th>\n",
              "      <th>extra</th>\n",
              "      <th>mta_tax</th>\n",
              "      <th>tip_amount</th>\n",
              "      <th>tolls_amount</th>\n",
              "      <th>improvement_surcharge</th>\n",
              "      <th>total_amount</th>\n",
              "      <th>congestion_surcharge</th>\n",
              "      <th>airport_fee</th>\n",
              "    </tr>\n",
              "  </thead>\n",
              "  <tbody>\n",
              "    <tr>\n",
              "      <th>4</th>\n",
              "      <td>1</td>\n",
              "      <td>2019-06-01 0:03</td>\n",
              "      <td>2019-06-01 0:15</td>\n",
              "      <td>1</td>\n",
              "      <td>1.70</td>\n",
              "      <td>1</td>\n",
              "      <td>N</td>\n",
              "      <td>113</td>\n",
              "      <td>148</td>\n",
              "      <td>1</td>\n",
              "      <td>9.5</td>\n",
              "      <td>3.0</td>\n",
              "      <td>0.5</td>\n",
              "      <td>2.65</td>\n",
              "      <td>0.00</td>\n",
              "      <td>0.3</td>\n",
              "      <td>15.95</td>\n",
              "      <td>2.5</td>\n",
              "      <td>NaN</td>\n",
              "    </tr>\n",
              "    <tr>\n",
              "      <th>5</th>\n",
              "      <td>1</td>\n",
              "      <td>2019-06-01 0:28</td>\n",
              "      <td>2019-06-01 0:39</td>\n",
              "      <td>2</td>\n",
              "      <td>1.60</td>\n",
              "      <td>1</td>\n",
              "      <td>N</td>\n",
              "      <td>79</td>\n",
              "      <td>125</td>\n",
              "      <td>1</td>\n",
              "      <td>9.5</td>\n",
              "      <td>3.0</td>\n",
              "      <td>0.5</td>\n",
              "      <td>1.00</td>\n",
              "      <td>0.00</td>\n",
              "      <td>0.3</td>\n",
              "      <td>14.30</td>\n",
              "      <td>2.5</td>\n",
              "      <td>NaN</td>\n",
              "    </tr>\n",
              "    <tr>\n",
              "      <th>7</th>\n",
              "      <td>1</td>\n",
              "      <td>2019-06-01 0:54</td>\n",
              "      <td>2019-06-01 1:02</td>\n",
              "      <td>2</td>\n",
              "      <td>1.20</td>\n",
              "      <td>1</td>\n",
              "      <td>N</td>\n",
              "      <td>79</td>\n",
              "      <td>249</td>\n",
              "      <td>1</td>\n",
              "      <td>7.5</td>\n",
              "      <td>3.0</td>\n",
              "      <td>0.5</td>\n",
              "      <td>1.00</td>\n",
              "      <td>0.00</td>\n",
              "      <td>0.3</td>\n",
              "      <td>12.30</td>\n",
              "      <td>2.5</td>\n",
              "      <td>NaN</td>\n",
              "    </tr>\n",
              "    <tr>\n",
              "      <th>9</th>\n",
              "      <td>1</td>\n",
              "      <td>2019-06-01 0:29</td>\n",
              "      <td>2019-06-01 1:03</td>\n",
              "      <td>1</td>\n",
              "      <td>8.60</td>\n",
              "      <td>1</td>\n",
              "      <td>N</td>\n",
              "      <td>186</td>\n",
              "      <td>243</td>\n",
              "      <td>1</td>\n",
              "      <td>31.5</td>\n",
              "      <td>3.0</td>\n",
              "      <td>0.5</td>\n",
              "      <td>7.05</td>\n",
              "      <td>0.00</td>\n",
              "      <td>0.3</td>\n",
              "      <td>42.35</td>\n",
              "      <td>2.5</td>\n",
              "      <td>NaN</td>\n",
              "    </tr>\n",
              "    <tr>\n",
              "      <th>10</th>\n",
              "      <td>2</td>\n",
              "      <td>2019-06-01 0:01</td>\n",
              "      <td>2019-06-01 0:16</td>\n",
              "      <td>1</td>\n",
              "      <td>1.74</td>\n",
              "      <td>1</td>\n",
              "      <td>N</td>\n",
              "      <td>107</td>\n",
              "      <td>148</td>\n",
              "      <td>1</td>\n",
              "      <td>11.0</td>\n",
              "      <td>0.5</td>\n",
              "      <td>0.5</td>\n",
              "      <td>2.96</td>\n",
              "      <td>0.00</td>\n",
              "      <td>0.3</td>\n",
              "      <td>17.76</td>\n",
              "      <td>2.5</td>\n",
              "      <td>NaN</td>\n",
              "    </tr>\n",
              "    <tr>\n",
              "      <th>...</th>\n",
              "      <td>...</td>\n",
              "      <td>...</td>\n",
              "      <td>...</td>\n",
              "      <td>...</td>\n",
              "      <td>...</td>\n",
              "      <td>...</td>\n",
              "      <td>...</td>\n",
              "      <td>...</td>\n",
              "      <td>...</td>\n",
              "      <td>...</td>\n",
              "      <td>...</td>\n",
              "      <td>...</td>\n",
              "      <td>...</td>\n",
              "      <td>...</td>\n",
              "      <td>...</td>\n",
              "      <td>...</td>\n",
              "      <td>...</td>\n",
              "      <td>...</td>\n",
              "      <td>...</td>\n",
              "    </tr>\n",
              "    <tr>\n",
              "      <th>999988</th>\n",
              "      <td>1</td>\n",
              "      <td>2019-06-05 12:17</td>\n",
              "      <td>2019-06-05 12:56</td>\n",
              "      <td>1</td>\n",
              "      <td>10.70</td>\n",
              "      <td>1</td>\n",
              "      <td>N</td>\n",
              "      <td>138</td>\n",
              "      <td>163</td>\n",
              "      <td>1</td>\n",
              "      <td>36.0</td>\n",
              "      <td>2.5</td>\n",
              "      <td>0.5</td>\n",
              "      <td>12.00</td>\n",
              "      <td>6.12</td>\n",
              "      <td>0.3</td>\n",
              "      <td>57.42</td>\n",
              "      <td>2.5</td>\n",
              "      <td>NaN</td>\n",
              "    </tr>\n",
              "    <tr>\n",
              "      <th>999991</th>\n",
              "      <td>2</td>\n",
              "      <td>2019-06-05 12:58</td>\n",
              "      <td>2019-06-05 13:12</td>\n",
              "      <td>1</td>\n",
              "      <td>1.32</td>\n",
              "      <td>1</td>\n",
              "      <td>N</td>\n",
              "      <td>170</td>\n",
              "      <td>246</td>\n",
              "      <td>1</td>\n",
              "      <td>10.0</td>\n",
              "      <td>0.0</td>\n",
              "      <td>0.5</td>\n",
              "      <td>2.66</td>\n",
              "      <td>0.00</td>\n",
              "      <td>0.3</td>\n",
              "      <td>15.96</td>\n",
              "      <td>2.5</td>\n",
              "      <td>NaN</td>\n",
              "    </tr>\n",
              "    <tr>\n",
              "      <th>999993</th>\n",
              "      <td>2</td>\n",
              "      <td>2019-06-05 12:47</td>\n",
              "      <td>2019-06-05 13:24</td>\n",
              "      <td>1</td>\n",
              "      <td>1.86</td>\n",
              "      <td>1</td>\n",
              "      <td>N</td>\n",
              "      <td>161</td>\n",
              "      <td>162</td>\n",
              "      <td>1</td>\n",
              "      <td>21.5</td>\n",
              "      <td>0.0</td>\n",
              "      <td>0.5</td>\n",
              "      <td>4.96</td>\n",
              "      <td>0.00</td>\n",
              "      <td>0.3</td>\n",
              "      <td>29.76</td>\n",
              "      <td>2.5</td>\n",
              "      <td>NaN</td>\n",
              "    </tr>\n",
              "    <tr>\n",
              "      <th>999996</th>\n",
              "      <td>2</td>\n",
              "      <td>2019-06-05 12:03</td>\n",
              "      <td>2019-06-05 12:23</td>\n",
              "      <td>1</td>\n",
              "      <td>1.70</td>\n",
              "      <td>1</td>\n",
              "      <td>N</td>\n",
              "      <td>161</td>\n",
              "      <td>236</td>\n",
              "      <td>1</td>\n",
              "      <td>12.5</td>\n",
              "      <td>0.0</td>\n",
              "      <td>0.5</td>\n",
              "      <td>3.16</td>\n",
              "      <td>0.00</td>\n",
              "      <td>0.3</td>\n",
              "      <td>18.96</td>\n",
              "      <td>2.5</td>\n",
              "      <td>NaN</td>\n",
              "    </tr>\n",
              "    <tr>\n",
              "      <th>999997</th>\n",
              "      <td>2</td>\n",
              "      <td>2019-06-05 12:25</td>\n",
              "      <td>2019-06-05 12:33</td>\n",
              "      <td>1</td>\n",
              "      <td>0.94</td>\n",
              "      <td>1</td>\n",
              "      <td>N</td>\n",
              "      <td>43</td>\n",
              "      <td>237</td>\n",
              "      <td>1</td>\n",
              "      <td>7.0</td>\n",
              "      <td>0.0</td>\n",
              "      <td>0.5</td>\n",
              "      <td>0.20</td>\n",
              "      <td>0.00</td>\n",
              "      <td>0.3</td>\n",
              "      <td>10.50</td>\n",
              "      <td>2.5</td>\n",
              "      <td>NaN</td>\n",
              "    </tr>\n",
              "  </tbody>\n",
              "</table>\n",
              "<p>683507 rows × 19 columns</p>\n",
              "</div>"
            ],
            "text/plain": [
              "        VendorID tpep_pickup_datetime tpep_dropoff_datetime  passenger_count  \\\n",
              "4              1      2019-06-01 0:03       2019-06-01 0:15                1   \n",
              "5              1      2019-06-01 0:28       2019-06-01 0:39                2   \n",
              "7              1      2019-06-01 0:54       2019-06-01 1:02                2   \n",
              "9              1      2019-06-01 0:29       2019-06-01 1:03                1   \n",
              "10             2      2019-06-01 0:01       2019-06-01 0:16                1   \n",
              "...          ...                  ...                   ...              ...   \n",
              "999988         1     2019-06-05 12:17      2019-06-05 12:56                1   \n",
              "999991         2     2019-06-05 12:58      2019-06-05 13:12                1   \n",
              "999993         2     2019-06-05 12:47      2019-06-05 13:24                1   \n",
              "999996         2     2019-06-05 12:03      2019-06-05 12:23                1   \n",
              "999997         2     2019-06-05 12:25      2019-06-05 12:33                1   \n",
              "\n",
              "        trip_distance  RatecodeID store_and_fwd_flag  PULocationID  \\\n",
              "4                1.70           1                  N           113   \n",
              "5                1.60           1                  N            79   \n",
              "7                1.20           1                  N            79   \n",
              "9                8.60           1                  N           186   \n",
              "10               1.74           1                  N           107   \n",
              "...               ...         ...                ...           ...   \n",
              "999988          10.70           1                  N           138   \n",
              "999991           1.32           1                  N           170   \n",
              "999993           1.86           1                  N           161   \n",
              "999996           1.70           1                  N           161   \n",
              "999997           0.94           1                  N            43   \n",
              "\n",
              "        DOLocationID  payment_type  fare_amount  extra  mta_tax  tip_amount  \\\n",
              "4                148             1          9.5    3.0      0.5        2.65   \n",
              "5                125             1          9.5    3.0      0.5        1.00   \n",
              "7                249             1          7.5    3.0      0.5        1.00   \n",
              "9                243             1         31.5    3.0      0.5        7.05   \n",
              "10               148             1         11.0    0.5      0.5        2.96   \n",
              "...              ...           ...          ...    ...      ...         ...   \n",
              "999988           163             1         36.0    2.5      0.5       12.00   \n",
              "999991           246             1         10.0    0.0      0.5        2.66   \n",
              "999993           162             1         21.5    0.0      0.5        4.96   \n",
              "999996           236             1         12.5    0.0      0.5        3.16   \n",
              "999997           237             1          7.0    0.0      0.5        0.20   \n",
              "\n",
              "        tolls_amount  improvement_surcharge  total_amount  \\\n",
              "4               0.00                    0.3         15.95   \n",
              "5               0.00                    0.3         14.30   \n",
              "7               0.00                    0.3         12.30   \n",
              "9               0.00                    0.3         42.35   \n",
              "10              0.00                    0.3         17.76   \n",
              "...              ...                    ...           ...   \n",
              "999988          6.12                    0.3         57.42   \n",
              "999991          0.00                    0.3         15.96   \n",
              "999993          0.00                    0.3         29.76   \n",
              "999996          0.00                    0.3         18.96   \n",
              "999997          0.00                    0.3         10.50   \n",
              "\n",
              "        congestion_surcharge  airport_fee  \n",
              "4                        2.5          NaN  \n",
              "5                        2.5          NaN  \n",
              "7                        2.5          NaN  \n",
              "9                        2.5          NaN  \n",
              "10                       2.5          NaN  \n",
              "...                      ...          ...  \n",
              "999988                   2.5          NaN  \n",
              "999991                   2.5          NaN  \n",
              "999993                   2.5          NaN  \n",
              "999996                   2.5          NaN  \n",
              "999997                   2.5          NaN  \n",
              "\n",
              "[683507 rows x 19 columns]"
            ]
          },
          "execution_count": 8,
          "metadata": {},
          "output_type": "execute_result"
        }
      ],
      "source": [
        "raw_data = raw_data[raw_data['tip_amount'] > 0]\n",
        "raw_data"
      ]
    },
    {
      "cell_type": "markdown",
      "metadata": {
        "id": "HyhtyfTvRdWR"
      },
      "source": [
        "We also remove some outliers, namely those where the tip was larger than the fare cost:\n"
      ]
    },
    {
      "cell_type": "code",
      "execution_count": null,
      "metadata": {
        "id": "Tg-BnHBIRdWR",
        "outputId": "a3f51935-a363-4e5d-8ce8-8e892046873d"
      },
      "outputs": [
        {
          "data": {
            "text/html": [
              "<div>\n",
              "<style scoped>\n",
              "    .dataframe tbody tr th:only-of-type {\n",
              "        vertical-align: middle;\n",
              "    }\n",
              "\n",
              "    .dataframe tbody tr th {\n",
              "        vertical-align: top;\n",
              "    }\n",
              "\n",
              "    .dataframe thead th {\n",
              "        text-align: right;\n",
              "    }\n",
              "</style>\n",
              "<table border=\"1\" class=\"dataframe\">\n",
              "  <thead>\n",
              "    <tr style=\"text-align: right;\">\n",
              "      <th></th>\n",
              "      <th>VendorID</th>\n",
              "      <th>tpep_pickup_datetime</th>\n",
              "      <th>tpep_dropoff_datetime</th>\n",
              "      <th>passenger_count</th>\n",
              "      <th>trip_distance</th>\n",
              "      <th>RatecodeID</th>\n",
              "      <th>store_and_fwd_flag</th>\n",
              "      <th>PULocationID</th>\n",
              "      <th>DOLocationID</th>\n",
              "      <th>payment_type</th>\n",
              "      <th>fare_amount</th>\n",
              "      <th>extra</th>\n",
              "      <th>mta_tax</th>\n",
              "      <th>tip_amount</th>\n",
              "      <th>tolls_amount</th>\n",
              "      <th>improvement_surcharge</th>\n",
              "      <th>total_amount</th>\n",
              "      <th>congestion_surcharge</th>\n",
              "      <th>airport_fee</th>\n",
              "    </tr>\n",
              "  </thead>\n",
              "  <tbody>\n",
              "    <tr>\n",
              "      <th>4</th>\n",
              "      <td>1</td>\n",
              "      <td>2019-06-01 0:03</td>\n",
              "      <td>2019-06-01 0:15</td>\n",
              "      <td>1</td>\n",
              "      <td>1.70</td>\n",
              "      <td>1</td>\n",
              "      <td>N</td>\n",
              "      <td>113</td>\n",
              "      <td>148</td>\n",
              "      <td>1</td>\n",
              "      <td>9.5</td>\n",
              "      <td>3.0</td>\n",
              "      <td>0.5</td>\n",
              "      <td>2.65</td>\n",
              "      <td>0.00</td>\n",
              "      <td>0.3</td>\n",
              "      <td>15.95</td>\n",
              "      <td>2.5</td>\n",
              "      <td>NaN</td>\n",
              "    </tr>\n",
              "    <tr>\n",
              "      <th>5</th>\n",
              "      <td>1</td>\n",
              "      <td>2019-06-01 0:28</td>\n",
              "      <td>2019-06-01 0:39</td>\n",
              "      <td>2</td>\n",
              "      <td>1.60</td>\n",
              "      <td>1</td>\n",
              "      <td>N</td>\n",
              "      <td>79</td>\n",
              "      <td>125</td>\n",
              "      <td>1</td>\n",
              "      <td>9.5</td>\n",
              "      <td>3.0</td>\n",
              "      <td>0.5</td>\n",
              "      <td>1.00</td>\n",
              "      <td>0.00</td>\n",
              "      <td>0.3</td>\n",
              "      <td>14.30</td>\n",
              "      <td>2.5</td>\n",
              "      <td>NaN</td>\n",
              "    </tr>\n",
              "    <tr>\n",
              "      <th>7</th>\n",
              "      <td>1</td>\n",
              "      <td>2019-06-01 0:54</td>\n",
              "      <td>2019-06-01 1:02</td>\n",
              "      <td>2</td>\n",
              "      <td>1.20</td>\n",
              "      <td>1</td>\n",
              "      <td>N</td>\n",
              "      <td>79</td>\n",
              "      <td>249</td>\n",
              "      <td>1</td>\n",
              "      <td>7.5</td>\n",
              "      <td>3.0</td>\n",
              "      <td>0.5</td>\n",
              "      <td>1.00</td>\n",
              "      <td>0.00</td>\n",
              "      <td>0.3</td>\n",
              "      <td>12.30</td>\n",
              "      <td>2.5</td>\n",
              "      <td>NaN</td>\n",
              "    </tr>\n",
              "    <tr>\n",
              "      <th>9</th>\n",
              "      <td>1</td>\n",
              "      <td>2019-06-01 0:29</td>\n",
              "      <td>2019-06-01 1:03</td>\n",
              "      <td>1</td>\n",
              "      <td>8.60</td>\n",
              "      <td>1</td>\n",
              "      <td>N</td>\n",
              "      <td>186</td>\n",
              "      <td>243</td>\n",
              "      <td>1</td>\n",
              "      <td>31.5</td>\n",
              "      <td>3.0</td>\n",
              "      <td>0.5</td>\n",
              "      <td>7.05</td>\n",
              "      <td>0.00</td>\n",
              "      <td>0.3</td>\n",
              "      <td>42.35</td>\n",
              "      <td>2.5</td>\n",
              "      <td>NaN</td>\n",
              "    </tr>\n",
              "    <tr>\n",
              "      <th>10</th>\n",
              "      <td>2</td>\n",
              "      <td>2019-06-01 0:01</td>\n",
              "      <td>2019-06-01 0:16</td>\n",
              "      <td>1</td>\n",
              "      <td>1.74</td>\n",
              "      <td>1</td>\n",
              "      <td>N</td>\n",
              "      <td>107</td>\n",
              "      <td>148</td>\n",
              "      <td>1</td>\n",
              "      <td>11.0</td>\n",
              "      <td>0.5</td>\n",
              "      <td>0.5</td>\n",
              "      <td>2.96</td>\n",
              "      <td>0.00</td>\n",
              "      <td>0.3</td>\n",
              "      <td>17.76</td>\n",
              "      <td>2.5</td>\n",
              "      <td>NaN</td>\n",
              "    </tr>\n",
              "    <tr>\n",
              "      <th>...</th>\n",
              "      <td>...</td>\n",
              "      <td>...</td>\n",
              "      <td>...</td>\n",
              "      <td>...</td>\n",
              "      <td>...</td>\n",
              "      <td>...</td>\n",
              "      <td>...</td>\n",
              "      <td>...</td>\n",
              "      <td>...</td>\n",
              "      <td>...</td>\n",
              "      <td>...</td>\n",
              "      <td>...</td>\n",
              "      <td>...</td>\n",
              "      <td>...</td>\n",
              "      <td>...</td>\n",
              "      <td>...</td>\n",
              "      <td>...</td>\n",
              "      <td>...</td>\n",
              "      <td>...</td>\n",
              "    </tr>\n",
              "    <tr>\n",
              "      <th>999988</th>\n",
              "      <td>1</td>\n",
              "      <td>2019-06-05 12:17</td>\n",
              "      <td>2019-06-05 12:56</td>\n",
              "      <td>1</td>\n",
              "      <td>10.70</td>\n",
              "      <td>1</td>\n",
              "      <td>N</td>\n",
              "      <td>138</td>\n",
              "      <td>163</td>\n",
              "      <td>1</td>\n",
              "      <td>36.0</td>\n",
              "      <td>2.5</td>\n",
              "      <td>0.5</td>\n",
              "      <td>12.00</td>\n",
              "      <td>6.12</td>\n",
              "      <td>0.3</td>\n",
              "      <td>57.42</td>\n",
              "      <td>2.5</td>\n",
              "      <td>NaN</td>\n",
              "    </tr>\n",
              "    <tr>\n",
              "      <th>999991</th>\n",
              "      <td>2</td>\n",
              "      <td>2019-06-05 12:58</td>\n",
              "      <td>2019-06-05 13:12</td>\n",
              "      <td>1</td>\n",
              "      <td>1.32</td>\n",
              "      <td>1</td>\n",
              "      <td>N</td>\n",
              "      <td>170</td>\n",
              "      <td>246</td>\n",
              "      <td>1</td>\n",
              "      <td>10.0</td>\n",
              "      <td>0.0</td>\n",
              "      <td>0.5</td>\n",
              "      <td>2.66</td>\n",
              "      <td>0.00</td>\n",
              "      <td>0.3</td>\n",
              "      <td>15.96</td>\n",
              "      <td>2.5</td>\n",
              "      <td>NaN</td>\n",
              "    </tr>\n",
              "    <tr>\n",
              "      <th>999993</th>\n",
              "      <td>2</td>\n",
              "      <td>2019-06-05 12:47</td>\n",
              "      <td>2019-06-05 13:24</td>\n",
              "      <td>1</td>\n",
              "      <td>1.86</td>\n",
              "      <td>1</td>\n",
              "      <td>N</td>\n",
              "      <td>161</td>\n",
              "      <td>162</td>\n",
              "      <td>1</td>\n",
              "      <td>21.5</td>\n",
              "      <td>0.0</td>\n",
              "      <td>0.5</td>\n",
              "      <td>4.96</td>\n",
              "      <td>0.00</td>\n",
              "      <td>0.3</td>\n",
              "      <td>29.76</td>\n",
              "      <td>2.5</td>\n",
              "      <td>NaN</td>\n",
              "    </tr>\n",
              "    <tr>\n",
              "      <th>999996</th>\n",
              "      <td>2</td>\n",
              "      <td>2019-06-05 12:03</td>\n",
              "      <td>2019-06-05 12:23</td>\n",
              "      <td>1</td>\n",
              "      <td>1.70</td>\n",
              "      <td>1</td>\n",
              "      <td>N</td>\n",
              "      <td>161</td>\n",
              "      <td>236</td>\n",
              "      <td>1</td>\n",
              "      <td>12.5</td>\n",
              "      <td>0.0</td>\n",
              "      <td>0.5</td>\n",
              "      <td>3.16</td>\n",
              "      <td>0.00</td>\n",
              "      <td>0.3</td>\n",
              "      <td>18.96</td>\n",
              "      <td>2.5</td>\n",
              "      <td>NaN</td>\n",
              "    </tr>\n",
              "    <tr>\n",
              "      <th>999997</th>\n",
              "      <td>2</td>\n",
              "      <td>2019-06-05 12:25</td>\n",
              "      <td>2019-06-05 12:33</td>\n",
              "      <td>1</td>\n",
              "      <td>0.94</td>\n",
              "      <td>1</td>\n",
              "      <td>N</td>\n",
              "      <td>43</td>\n",
              "      <td>237</td>\n",
              "      <td>1</td>\n",
              "      <td>7.0</td>\n",
              "      <td>0.0</td>\n",
              "      <td>0.5</td>\n",
              "      <td>0.20</td>\n",
              "      <td>0.00</td>\n",
              "      <td>0.3</td>\n",
              "      <td>10.50</td>\n",
              "      <td>2.5</td>\n",
              "      <td>NaN</td>\n",
              "    </tr>\n",
              "  </tbody>\n",
              "</table>\n",
              "<p>682607 rows × 19 columns</p>\n",
              "</div>"
            ],
            "text/plain": [
              "        VendorID tpep_pickup_datetime tpep_dropoff_datetime  passenger_count  \\\n",
              "4              1      2019-06-01 0:03       2019-06-01 0:15                1   \n",
              "5              1      2019-06-01 0:28       2019-06-01 0:39                2   \n",
              "7              1      2019-06-01 0:54       2019-06-01 1:02                2   \n",
              "9              1      2019-06-01 0:29       2019-06-01 1:03                1   \n",
              "10             2      2019-06-01 0:01       2019-06-01 0:16                1   \n",
              "...          ...                  ...                   ...              ...   \n",
              "999988         1     2019-06-05 12:17      2019-06-05 12:56                1   \n",
              "999991         2     2019-06-05 12:58      2019-06-05 13:12                1   \n",
              "999993         2     2019-06-05 12:47      2019-06-05 13:24                1   \n",
              "999996         2     2019-06-05 12:03      2019-06-05 12:23                1   \n",
              "999997         2     2019-06-05 12:25      2019-06-05 12:33                1   \n",
              "\n",
              "        trip_distance  RatecodeID store_and_fwd_flag  PULocationID  \\\n",
              "4                1.70           1                  N           113   \n",
              "5                1.60           1                  N            79   \n",
              "7                1.20           1                  N            79   \n",
              "9                8.60           1                  N           186   \n",
              "10               1.74           1                  N           107   \n",
              "...               ...         ...                ...           ...   \n",
              "999988          10.70           1                  N           138   \n",
              "999991           1.32           1                  N           170   \n",
              "999993           1.86           1                  N           161   \n",
              "999996           1.70           1                  N           161   \n",
              "999997           0.94           1                  N            43   \n",
              "\n",
              "        DOLocationID  payment_type  fare_amount  extra  mta_tax  tip_amount  \\\n",
              "4                148             1          9.5    3.0      0.5        2.65   \n",
              "5                125             1          9.5    3.0      0.5        1.00   \n",
              "7                249             1          7.5    3.0      0.5        1.00   \n",
              "9                243             1         31.5    3.0      0.5        7.05   \n",
              "10               148             1         11.0    0.5      0.5        2.96   \n",
              "...              ...           ...          ...    ...      ...         ...   \n",
              "999988           163             1         36.0    2.5      0.5       12.00   \n",
              "999991           246             1         10.0    0.0      0.5        2.66   \n",
              "999993           162             1         21.5    0.0      0.5        4.96   \n",
              "999996           236             1         12.5    0.0      0.5        3.16   \n",
              "999997           237             1          7.0    0.0      0.5        0.20   \n",
              "\n",
              "        tolls_amount  improvement_surcharge  total_amount  \\\n",
              "4               0.00                    0.3         15.95   \n",
              "5               0.00                    0.3         14.30   \n",
              "7               0.00                    0.3         12.30   \n",
              "9               0.00                    0.3         42.35   \n",
              "10              0.00                    0.3         17.76   \n",
              "...              ...                    ...           ...   \n",
              "999988          6.12                    0.3         57.42   \n",
              "999991          0.00                    0.3         15.96   \n",
              "999993          0.00                    0.3         29.76   \n",
              "999996          0.00                    0.3         18.96   \n",
              "999997          0.00                    0.3         10.50   \n",
              "\n",
              "        congestion_surcharge  airport_fee  \n",
              "4                        2.5          NaN  \n",
              "5                        2.5          NaN  \n",
              "7                        2.5          NaN  \n",
              "9                        2.5          NaN  \n",
              "10                       2.5          NaN  \n",
              "...                      ...          ...  \n",
              "999988                   2.5          NaN  \n",
              "999991                   2.5          NaN  \n",
              "999993                   2.5          NaN  \n",
              "999996                   2.5          NaN  \n",
              "999997                   2.5          NaN  \n",
              "\n",
              "[682607 rows x 19 columns]"
            ]
          },
          "execution_count": 9,
          "metadata": {},
          "output_type": "execute_result"
        }
      ],
      "source": [
        "raw_data = raw_data[(raw_data['tip_amount'] <= raw_data['fare_amount'])]\n",
        "raw_data"
      ]
    },
    {
      "cell_type": "markdown",
      "metadata": {
        "id": "eQBEslj2RdWR"
      },
      "source": [
        "We remove trips with very large fare cost, i.e.: greater than $200.\n"
      ]
    },
    {
      "cell_type": "code",
      "execution_count": null,
      "metadata": {
        "id": "N_Wmp9JcRdWR",
        "outputId": "21756d71-704c-4fca-a5cf-320fff2c1eae"
      },
      "outputs": [
        {
          "data": {
            "text/html": [
              "<div>\n",
              "<style scoped>\n",
              "    .dataframe tbody tr th:only-of-type {\n",
              "        vertical-align: middle;\n",
              "    }\n",
              "\n",
              "    .dataframe tbody tr th {\n",
              "        vertical-align: top;\n",
              "    }\n",
              "\n",
              "    .dataframe thead th {\n",
              "        text-align: right;\n",
              "    }\n",
              "</style>\n",
              "<table border=\"1\" class=\"dataframe\">\n",
              "  <thead>\n",
              "    <tr style=\"text-align: right;\">\n",
              "      <th></th>\n",
              "      <th>VendorID</th>\n",
              "      <th>tpep_pickup_datetime</th>\n",
              "      <th>tpep_dropoff_datetime</th>\n",
              "      <th>passenger_count</th>\n",
              "      <th>trip_distance</th>\n",
              "      <th>RatecodeID</th>\n",
              "      <th>store_and_fwd_flag</th>\n",
              "      <th>PULocationID</th>\n",
              "      <th>DOLocationID</th>\n",
              "      <th>payment_type</th>\n",
              "      <th>fare_amount</th>\n",
              "      <th>extra</th>\n",
              "      <th>mta_tax</th>\n",
              "      <th>tip_amount</th>\n",
              "      <th>tolls_amount</th>\n",
              "      <th>improvement_surcharge</th>\n",
              "      <th>total_amount</th>\n",
              "      <th>congestion_surcharge</th>\n",
              "      <th>airport_fee</th>\n",
              "    </tr>\n",
              "  </thead>\n",
              "  <tbody>\n",
              "    <tr>\n",
              "      <th>4</th>\n",
              "      <td>1</td>\n",
              "      <td>2019-06-01 0:03</td>\n",
              "      <td>2019-06-01 0:15</td>\n",
              "      <td>1</td>\n",
              "      <td>1.70</td>\n",
              "      <td>1</td>\n",
              "      <td>N</td>\n",
              "      <td>113</td>\n",
              "      <td>148</td>\n",
              "      <td>1</td>\n",
              "      <td>9.5</td>\n",
              "      <td>3.0</td>\n",
              "      <td>0.5</td>\n",
              "      <td>2.65</td>\n",
              "      <td>0.00</td>\n",
              "      <td>0.3</td>\n",
              "      <td>15.95</td>\n",
              "      <td>2.5</td>\n",
              "      <td>NaN</td>\n",
              "    </tr>\n",
              "    <tr>\n",
              "      <th>5</th>\n",
              "      <td>1</td>\n",
              "      <td>2019-06-01 0:28</td>\n",
              "      <td>2019-06-01 0:39</td>\n",
              "      <td>2</td>\n",
              "      <td>1.60</td>\n",
              "      <td>1</td>\n",
              "      <td>N</td>\n",
              "      <td>79</td>\n",
              "      <td>125</td>\n",
              "      <td>1</td>\n",
              "      <td>9.5</td>\n",
              "      <td>3.0</td>\n",
              "      <td>0.5</td>\n",
              "      <td>1.00</td>\n",
              "      <td>0.00</td>\n",
              "      <td>0.3</td>\n",
              "      <td>14.30</td>\n",
              "      <td>2.5</td>\n",
              "      <td>NaN</td>\n",
              "    </tr>\n",
              "    <tr>\n",
              "      <th>7</th>\n",
              "      <td>1</td>\n",
              "      <td>2019-06-01 0:54</td>\n",
              "      <td>2019-06-01 1:02</td>\n",
              "      <td>2</td>\n",
              "      <td>1.20</td>\n",
              "      <td>1</td>\n",
              "      <td>N</td>\n",
              "      <td>79</td>\n",
              "      <td>249</td>\n",
              "      <td>1</td>\n",
              "      <td>7.5</td>\n",
              "      <td>3.0</td>\n",
              "      <td>0.5</td>\n",
              "      <td>1.00</td>\n",
              "      <td>0.00</td>\n",
              "      <td>0.3</td>\n",
              "      <td>12.30</td>\n",
              "      <td>2.5</td>\n",
              "      <td>NaN</td>\n",
              "    </tr>\n",
              "    <tr>\n",
              "      <th>9</th>\n",
              "      <td>1</td>\n",
              "      <td>2019-06-01 0:29</td>\n",
              "      <td>2019-06-01 1:03</td>\n",
              "      <td>1</td>\n",
              "      <td>8.60</td>\n",
              "      <td>1</td>\n",
              "      <td>N</td>\n",
              "      <td>186</td>\n",
              "      <td>243</td>\n",
              "      <td>1</td>\n",
              "      <td>31.5</td>\n",
              "      <td>3.0</td>\n",
              "      <td>0.5</td>\n",
              "      <td>7.05</td>\n",
              "      <td>0.00</td>\n",
              "      <td>0.3</td>\n",
              "      <td>42.35</td>\n",
              "      <td>2.5</td>\n",
              "      <td>NaN</td>\n",
              "    </tr>\n",
              "    <tr>\n",
              "      <th>10</th>\n",
              "      <td>2</td>\n",
              "      <td>2019-06-01 0:01</td>\n",
              "      <td>2019-06-01 0:16</td>\n",
              "      <td>1</td>\n",
              "      <td>1.74</td>\n",
              "      <td>1</td>\n",
              "      <td>N</td>\n",
              "      <td>107</td>\n",
              "      <td>148</td>\n",
              "      <td>1</td>\n",
              "      <td>11.0</td>\n",
              "      <td>0.5</td>\n",
              "      <td>0.5</td>\n",
              "      <td>2.96</td>\n",
              "      <td>0.00</td>\n",
              "      <td>0.3</td>\n",
              "      <td>17.76</td>\n",
              "      <td>2.5</td>\n",
              "      <td>NaN</td>\n",
              "    </tr>\n",
              "    <tr>\n",
              "      <th>...</th>\n",
              "      <td>...</td>\n",
              "      <td>...</td>\n",
              "      <td>...</td>\n",
              "      <td>...</td>\n",
              "      <td>...</td>\n",
              "      <td>...</td>\n",
              "      <td>...</td>\n",
              "      <td>...</td>\n",
              "      <td>...</td>\n",
              "      <td>...</td>\n",
              "      <td>...</td>\n",
              "      <td>...</td>\n",
              "      <td>...</td>\n",
              "      <td>...</td>\n",
              "      <td>...</td>\n",
              "      <td>...</td>\n",
              "      <td>...</td>\n",
              "      <td>...</td>\n",
              "      <td>...</td>\n",
              "    </tr>\n",
              "    <tr>\n",
              "      <th>999988</th>\n",
              "      <td>1</td>\n",
              "      <td>2019-06-05 12:17</td>\n",
              "      <td>2019-06-05 12:56</td>\n",
              "      <td>1</td>\n",
              "      <td>10.70</td>\n",
              "      <td>1</td>\n",
              "      <td>N</td>\n",
              "      <td>138</td>\n",
              "      <td>163</td>\n",
              "      <td>1</td>\n",
              "      <td>36.0</td>\n",
              "      <td>2.5</td>\n",
              "      <td>0.5</td>\n",
              "      <td>12.00</td>\n",
              "      <td>6.12</td>\n",
              "      <td>0.3</td>\n",
              "      <td>57.42</td>\n",
              "      <td>2.5</td>\n",
              "      <td>NaN</td>\n",
              "    </tr>\n",
              "    <tr>\n",
              "      <th>999991</th>\n",
              "      <td>2</td>\n",
              "      <td>2019-06-05 12:58</td>\n",
              "      <td>2019-06-05 13:12</td>\n",
              "      <td>1</td>\n",
              "      <td>1.32</td>\n",
              "      <td>1</td>\n",
              "      <td>N</td>\n",
              "      <td>170</td>\n",
              "      <td>246</td>\n",
              "      <td>1</td>\n",
              "      <td>10.0</td>\n",
              "      <td>0.0</td>\n",
              "      <td>0.5</td>\n",
              "      <td>2.66</td>\n",
              "      <td>0.00</td>\n",
              "      <td>0.3</td>\n",
              "      <td>15.96</td>\n",
              "      <td>2.5</td>\n",
              "      <td>NaN</td>\n",
              "    </tr>\n",
              "    <tr>\n",
              "      <th>999993</th>\n",
              "      <td>2</td>\n",
              "      <td>2019-06-05 12:47</td>\n",
              "      <td>2019-06-05 13:24</td>\n",
              "      <td>1</td>\n",
              "      <td>1.86</td>\n",
              "      <td>1</td>\n",
              "      <td>N</td>\n",
              "      <td>161</td>\n",
              "      <td>162</td>\n",
              "      <td>1</td>\n",
              "      <td>21.5</td>\n",
              "      <td>0.0</td>\n",
              "      <td>0.5</td>\n",
              "      <td>4.96</td>\n",
              "      <td>0.00</td>\n",
              "      <td>0.3</td>\n",
              "      <td>29.76</td>\n",
              "      <td>2.5</td>\n",
              "      <td>NaN</td>\n",
              "    </tr>\n",
              "    <tr>\n",
              "      <th>999996</th>\n",
              "      <td>2</td>\n",
              "      <td>2019-06-05 12:03</td>\n",
              "      <td>2019-06-05 12:23</td>\n",
              "      <td>1</td>\n",
              "      <td>1.70</td>\n",
              "      <td>1</td>\n",
              "      <td>N</td>\n",
              "      <td>161</td>\n",
              "      <td>236</td>\n",
              "      <td>1</td>\n",
              "      <td>12.5</td>\n",
              "      <td>0.0</td>\n",
              "      <td>0.5</td>\n",
              "      <td>3.16</td>\n",
              "      <td>0.00</td>\n",
              "      <td>0.3</td>\n",
              "      <td>18.96</td>\n",
              "      <td>2.5</td>\n",
              "      <td>NaN</td>\n",
              "    </tr>\n",
              "    <tr>\n",
              "      <th>999997</th>\n",
              "      <td>2</td>\n",
              "      <td>2019-06-05 12:25</td>\n",
              "      <td>2019-06-05 12:33</td>\n",
              "      <td>1</td>\n",
              "      <td>0.94</td>\n",
              "      <td>1</td>\n",
              "      <td>N</td>\n",
              "      <td>43</td>\n",
              "      <td>237</td>\n",
              "      <td>1</td>\n",
              "      <td>7.0</td>\n",
              "      <td>0.0</td>\n",
              "      <td>0.5</td>\n",
              "      <td>0.20</td>\n",
              "      <td>0.00</td>\n",
              "      <td>0.3</td>\n",
              "      <td>10.50</td>\n",
              "      <td>2.5</td>\n",
              "      <td>NaN</td>\n",
              "    </tr>\n",
              "  </tbody>\n",
              "</table>\n",
              "<p>682522 rows × 19 columns</p>\n",
              "</div>"
            ],
            "text/plain": [
              "        VendorID tpep_pickup_datetime tpep_dropoff_datetime  passenger_count  \\\n",
              "4              1      2019-06-01 0:03       2019-06-01 0:15                1   \n",
              "5              1      2019-06-01 0:28       2019-06-01 0:39                2   \n",
              "7              1      2019-06-01 0:54       2019-06-01 1:02                2   \n",
              "9              1      2019-06-01 0:29       2019-06-01 1:03                1   \n",
              "10             2      2019-06-01 0:01       2019-06-01 0:16                1   \n",
              "...          ...                  ...                   ...              ...   \n",
              "999988         1     2019-06-05 12:17      2019-06-05 12:56                1   \n",
              "999991         2     2019-06-05 12:58      2019-06-05 13:12                1   \n",
              "999993         2     2019-06-05 12:47      2019-06-05 13:24                1   \n",
              "999996         2     2019-06-05 12:03      2019-06-05 12:23                1   \n",
              "999997         2     2019-06-05 12:25      2019-06-05 12:33                1   \n",
              "\n",
              "        trip_distance  RatecodeID store_and_fwd_flag  PULocationID  \\\n",
              "4                1.70           1                  N           113   \n",
              "5                1.60           1                  N            79   \n",
              "7                1.20           1                  N            79   \n",
              "9                8.60           1                  N           186   \n",
              "10               1.74           1                  N           107   \n",
              "...               ...         ...                ...           ...   \n",
              "999988          10.70           1                  N           138   \n",
              "999991           1.32           1                  N           170   \n",
              "999993           1.86           1                  N           161   \n",
              "999996           1.70           1                  N           161   \n",
              "999997           0.94           1                  N            43   \n",
              "\n",
              "        DOLocationID  payment_type  fare_amount  extra  mta_tax  tip_amount  \\\n",
              "4                148             1          9.5    3.0      0.5        2.65   \n",
              "5                125             1          9.5    3.0      0.5        1.00   \n",
              "7                249             1          7.5    3.0      0.5        1.00   \n",
              "9                243             1         31.5    3.0      0.5        7.05   \n",
              "10               148             1         11.0    0.5      0.5        2.96   \n",
              "...              ...           ...          ...    ...      ...         ...   \n",
              "999988           163             1         36.0    2.5      0.5       12.00   \n",
              "999991           246             1         10.0    0.0      0.5        2.66   \n",
              "999993           162             1         21.5    0.0      0.5        4.96   \n",
              "999996           236             1         12.5    0.0      0.5        3.16   \n",
              "999997           237             1          7.0    0.0      0.5        0.20   \n",
              "\n",
              "        tolls_amount  improvement_surcharge  total_amount  \\\n",
              "4               0.00                    0.3         15.95   \n",
              "5               0.00                    0.3         14.30   \n",
              "7               0.00                    0.3         12.30   \n",
              "9               0.00                    0.3         42.35   \n",
              "10              0.00                    0.3         17.76   \n",
              "...              ...                    ...           ...   \n",
              "999988          6.12                    0.3         57.42   \n",
              "999991          0.00                    0.3         15.96   \n",
              "999993          0.00                    0.3         29.76   \n",
              "999996          0.00                    0.3         18.96   \n",
              "999997          0.00                    0.3         10.50   \n",
              "\n",
              "        congestion_surcharge  airport_fee  \n",
              "4                        2.5          NaN  \n",
              "5                        2.5          NaN  \n",
              "7                        2.5          NaN  \n",
              "9                        2.5          NaN  \n",
              "10                       2.5          NaN  \n",
              "...                      ...          ...  \n",
              "999988                   2.5          NaN  \n",
              "999991                   2.5          NaN  \n",
              "999993                   2.5          NaN  \n",
              "999996                   2.5          NaN  \n",
              "999997                   2.5          NaN  \n",
              "\n",
              "[682522 rows x 19 columns]"
            ]
          },
          "execution_count": 10,
          "metadata": {},
          "output_type": "execute_result"
        }
      ],
      "source": [
        "raw_data = raw_data[((raw_data['fare_amount'] >=2) & (raw_data['fare_amount'] < 200))]\n",
        "raw_data"
      ]
    },
    {
      "cell_type": "markdown",
      "metadata": {
        "id": "RJHSKqAhRdWS"
      },
      "source": [
        "We drop variable that contains the target variable, namely the `total_amount`:\n"
      ]
    },
    {
      "cell_type": "code",
      "execution_count": null,
      "metadata": {
        "id": "XI0kqiVnRdWS",
        "outputId": "d514f98b-ea11-41ac-e142-06fb14d55c93"
      },
      "outputs": [
        {
          "data": {
            "text/html": [
              "<div>\n",
              "<style scoped>\n",
              "    .dataframe tbody tr th:only-of-type {\n",
              "        vertical-align: middle;\n",
              "    }\n",
              "\n",
              "    .dataframe tbody tr th {\n",
              "        vertical-align: top;\n",
              "    }\n",
              "\n",
              "    .dataframe thead th {\n",
              "        text-align: right;\n",
              "    }\n",
              "</style>\n",
              "<table border=\"1\" class=\"dataframe\">\n",
              "  <thead>\n",
              "    <tr style=\"text-align: right;\">\n",
              "      <th></th>\n",
              "      <th>VendorID</th>\n",
              "      <th>tpep_pickup_datetime</th>\n",
              "      <th>tpep_dropoff_datetime</th>\n",
              "      <th>passenger_count</th>\n",
              "      <th>trip_distance</th>\n",
              "      <th>RatecodeID</th>\n",
              "      <th>store_and_fwd_flag</th>\n",
              "      <th>PULocationID</th>\n",
              "      <th>DOLocationID</th>\n",
              "      <th>payment_type</th>\n",
              "      <th>fare_amount</th>\n",
              "      <th>extra</th>\n",
              "      <th>mta_tax</th>\n",
              "      <th>tip_amount</th>\n",
              "      <th>tolls_amount</th>\n",
              "      <th>improvement_surcharge</th>\n",
              "      <th>congestion_surcharge</th>\n",
              "      <th>airport_fee</th>\n",
              "    </tr>\n",
              "  </thead>\n",
              "  <tbody>\n",
              "    <tr>\n",
              "      <th>4</th>\n",
              "      <td>1</td>\n",
              "      <td>2019-06-01 0:03</td>\n",
              "      <td>2019-06-01 0:15</td>\n",
              "      <td>1</td>\n",
              "      <td>1.70</td>\n",
              "      <td>1</td>\n",
              "      <td>N</td>\n",
              "      <td>113</td>\n",
              "      <td>148</td>\n",
              "      <td>1</td>\n",
              "      <td>9.5</td>\n",
              "      <td>3.0</td>\n",
              "      <td>0.5</td>\n",
              "      <td>2.65</td>\n",
              "      <td>0.00</td>\n",
              "      <td>0.3</td>\n",
              "      <td>2.5</td>\n",
              "      <td>NaN</td>\n",
              "    </tr>\n",
              "    <tr>\n",
              "      <th>5</th>\n",
              "      <td>1</td>\n",
              "      <td>2019-06-01 0:28</td>\n",
              "      <td>2019-06-01 0:39</td>\n",
              "      <td>2</td>\n",
              "      <td>1.60</td>\n",
              "      <td>1</td>\n",
              "      <td>N</td>\n",
              "      <td>79</td>\n",
              "      <td>125</td>\n",
              "      <td>1</td>\n",
              "      <td>9.5</td>\n",
              "      <td>3.0</td>\n",
              "      <td>0.5</td>\n",
              "      <td>1.00</td>\n",
              "      <td>0.00</td>\n",
              "      <td>0.3</td>\n",
              "      <td>2.5</td>\n",
              "      <td>NaN</td>\n",
              "    </tr>\n",
              "    <tr>\n",
              "      <th>7</th>\n",
              "      <td>1</td>\n",
              "      <td>2019-06-01 0:54</td>\n",
              "      <td>2019-06-01 1:02</td>\n",
              "      <td>2</td>\n",
              "      <td>1.20</td>\n",
              "      <td>1</td>\n",
              "      <td>N</td>\n",
              "      <td>79</td>\n",
              "      <td>249</td>\n",
              "      <td>1</td>\n",
              "      <td>7.5</td>\n",
              "      <td>3.0</td>\n",
              "      <td>0.5</td>\n",
              "      <td>1.00</td>\n",
              "      <td>0.00</td>\n",
              "      <td>0.3</td>\n",
              "      <td>2.5</td>\n",
              "      <td>NaN</td>\n",
              "    </tr>\n",
              "    <tr>\n",
              "      <th>9</th>\n",
              "      <td>1</td>\n",
              "      <td>2019-06-01 0:29</td>\n",
              "      <td>2019-06-01 1:03</td>\n",
              "      <td>1</td>\n",
              "      <td>8.60</td>\n",
              "      <td>1</td>\n",
              "      <td>N</td>\n",
              "      <td>186</td>\n",
              "      <td>243</td>\n",
              "      <td>1</td>\n",
              "      <td>31.5</td>\n",
              "      <td>3.0</td>\n",
              "      <td>0.5</td>\n",
              "      <td>7.05</td>\n",
              "      <td>0.00</td>\n",
              "      <td>0.3</td>\n",
              "      <td>2.5</td>\n",
              "      <td>NaN</td>\n",
              "    </tr>\n",
              "    <tr>\n",
              "      <th>10</th>\n",
              "      <td>2</td>\n",
              "      <td>2019-06-01 0:01</td>\n",
              "      <td>2019-06-01 0:16</td>\n",
              "      <td>1</td>\n",
              "      <td>1.74</td>\n",
              "      <td>1</td>\n",
              "      <td>N</td>\n",
              "      <td>107</td>\n",
              "      <td>148</td>\n",
              "      <td>1</td>\n",
              "      <td>11.0</td>\n",
              "      <td>0.5</td>\n",
              "      <td>0.5</td>\n",
              "      <td>2.96</td>\n",
              "      <td>0.00</td>\n",
              "      <td>0.3</td>\n",
              "      <td>2.5</td>\n",
              "      <td>NaN</td>\n",
              "    </tr>\n",
              "    <tr>\n",
              "      <th>...</th>\n",
              "      <td>...</td>\n",
              "      <td>...</td>\n",
              "      <td>...</td>\n",
              "      <td>...</td>\n",
              "      <td>...</td>\n",
              "      <td>...</td>\n",
              "      <td>...</td>\n",
              "      <td>...</td>\n",
              "      <td>...</td>\n",
              "      <td>...</td>\n",
              "      <td>...</td>\n",
              "      <td>...</td>\n",
              "      <td>...</td>\n",
              "      <td>...</td>\n",
              "      <td>...</td>\n",
              "      <td>...</td>\n",
              "      <td>...</td>\n",
              "      <td>...</td>\n",
              "    </tr>\n",
              "    <tr>\n",
              "      <th>999988</th>\n",
              "      <td>1</td>\n",
              "      <td>2019-06-05 12:17</td>\n",
              "      <td>2019-06-05 12:56</td>\n",
              "      <td>1</td>\n",
              "      <td>10.70</td>\n",
              "      <td>1</td>\n",
              "      <td>N</td>\n",
              "      <td>138</td>\n",
              "      <td>163</td>\n",
              "      <td>1</td>\n",
              "      <td>36.0</td>\n",
              "      <td>2.5</td>\n",
              "      <td>0.5</td>\n",
              "      <td>12.00</td>\n",
              "      <td>6.12</td>\n",
              "      <td>0.3</td>\n",
              "      <td>2.5</td>\n",
              "      <td>NaN</td>\n",
              "    </tr>\n",
              "    <tr>\n",
              "      <th>999991</th>\n",
              "      <td>2</td>\n",
              "      <td>2019-06-05 12:58</td>\n",
              "      <td>2019-06-05 13:12</td>\n",
              "      <td>1</td>\n",
              "      <td>1.32</td>\n",
              "      <td>1</td>\n",
              "      <td>N</td>\n",
              "      <td>170</td>\n",
              "      <td>246</td>\n",
              "      <td>1</td>\n",
              "      <td>10.0</td>\n",
              "      <td>0.0</td>\n",
              "      <td>0.5</td>\n",
              "      <td>2.66</td>\n",
              "      <td>0.00</td>\n",
              "      <td>0.3</td>\n",
              "      <td>2.5</td>\n",
              "      <td>NaN</td>\n",
              "    </tr>\n",
              "    <tr>\n",
              "      <th>999993</th>\n",
              "      <td>2</td>\n",
              "      <td>2019-06-05 12:47</td>\n",
              "      <td>2019-06-05 13:24</td>\n",
              "      <td>1</td>\n",
              "      <td>1.86</td>\n",
              "      <td>1</td>\n",
              "      <td>N</td>\n",
              "      <td>161</td>\n",
              "      <td>162</td>\n",
              "      <td>1</td>\n",
              "      <td>21.5</td>\n",
              "      <td>0.0</td>\n",
              "      <td>0.5</td>\n",
              "      <td>4.96</td>\n",
              "      <td>0.00</td>\n",
              "      <td>0.3</td>\n",
              "      <td>2.5</td>\n",
              "      <td>NaN</td>\n",
              "    </tr>\n",
              "    <tr>\n",
              "      <th>999996</th>\n",
              "      <td>2</td>\n",
              "      <td>2019-06-05 12:03</td>\n",
              "      <td>2019-06-05 12:23</td>\n",
              "      <td>1</td>\n",
              "      <td>1.70</td>\n",
              "      <td>1</td>\n",
              "      <td>N</td>\n",
              "      <td>161</td>\n",
              "      <td>236</td>\n",
              "      <td>1</td>\n",
              "      <td>12.5</td>\n",
              "      <td>0.0</td>\n",
              "      <td>0.5</td>\n",
              "      <td>3.16</td>\n",
              "      <td>0.00</td>\n",
              "      <td>0.3</td>\n",
              "      <td>2.5</td>\n",
              "      <td>NaN</td>\n",
              "    </tr>\n",
              "    <tr>\n",
              "      <th>999997</th>\n",
              "      <td>2</td>\n",
              "      <td>2019-06-05 12:25</td>\n",
              "      <td>2019-06-05 12:33</td>\n",
              "      <td>1</td>\n",
              "      <td>0.94</td>\n",
              "      <td>1</td>\n",
              "      <td>N</td>\n",
              "      <td>43</td>\n",
              "      <td>237</td>\n",
              "      <td>1</td>\n",
              "      <td>7.0</td>\n",
              "      <td>0.0</td>\n",
              "      <td>0.5</td>\n",
              "      <td>0.20</td>\n",
              "      <td>0.00</td>\n",
              "      <td>0.3</td>\n",
              "      <td>2.5</td>\n",
              "      <td>NaN</td>\n",
              "    </tr>\n",
              "  </tbody>\n",
              "</table>\n",
              "<p>682522 rows × 18 columns</p>\n",
              "</div>"
            ],
            "text/plain": [
              "        VendorID tpep_pickup_datetime tpep_dropoff_datetime  passenger_count  \\\n",
              "4              1      2019-06-01 0:03       2019-06-01 0:15                1   \n",
              "5              1      2019-06-01 0:28       2019-06-01 0:39                2   \n",
              "7              1      2019-06-01 0:54       2019-06-01 1:02                2   \n",
              "9              1      2019-06-01 0:29       2019-06-01 1:03                1   \n",
              "10             2      2019-06-01 0:01       2019-06-01 0:16                1   \n",
              "...          ...                  ...                   ...              ...   \n",
              "999988         1     2019-06-05 12:17      2019-06-05 12:56                1   \n",
              "999991         2     2019-06-05 12:58      2019-06-05 13:12                1   \n",
              "999993         2     2019-06-05 12:47      2019-06-05 13:24                1   \n",
              "999996         2     2019-06-05 12:03      2019-06-05 12:23                1   \n",
              "999997         2     2019-06-05 12:25      2019-06-05 12:33                1   \n",
              "\n",
              "        trip_distance  RatecodeID store_and_fwd_flag  PULocationID  \\\n",
              "4                1.70           1                  N           113   \n",
              "5                1.60           1                  N            79   \n",
              "7                1.20           1                  N            79   \n",
              "9                8.60           1                  N           186   \n",
              "10               1.74           1                  N           107   \n",
              "...               ...         ...                ...           ...   \n",
              "999988          10.70           1                  N           138   \n",
              "999991           1.32           1                  N           170   \n",
              "999993           1.86           1                  N           161   \n",
              "999996           1.70           1                  N           161   \n",
              "999997           0.94           1                  N            43   \n",
              "\n",
              "        DOLocationID  payment_type  fare_amount  extra  mta_tax  tip_amount  \\\n",
              "4                148             1          9.5    3.0      0.5        2.65   \n",
              "5                125             1          9.5    3.0      0.5        1.00   \n",
              "7                249             1          7.5    3.0      0.5        1.00   \n",
              "9                243             1         31.5    3.0      0.5        7.05   \n",
              "10               148             1         11.0    0.5      0.5        2.96   \n",
              "...              ...           ...          ...    ...      ...         ...   \n",
              "999988           163             1         36.0    2.5      0.5       12.00   \n",
              "999991           246             1         10.0    0.0      0.5        2.66   \n",
              "999993           162             1         21.5    0.0      0.5        4.96   \n",
              "999996           236             1         12.5    0.0      0.5        3.16   \n",
              "999997           237             1          7.0    0.0      0.5        0.20   \n",
              "\n",
              "        tolls_amount  improvement_surcharge  congestion_surcharge  airport_fee  \n",
              "4               0.00                    0.3                   2.5          NaN  \n",
              "5               0.00                    0.3                   2.5          NaN  \n",
              "7               0.00                    0.3                   2.5          NaN  \n",
              "9               0.00                    0.3                   2.5          NaN  \n",
              "10              0.00                    0.3                   2.5          NaN  \n",
              "...              ...                    ...                   ...          ...  \n",
              "999988          6.12                    0.3                   2.5          NaN  \n",
              "999991          0.00                    0.3                   2.5          NaN  \n",
              "999993          0.00                    0.3                   2.5          NaN  \n",
              "999996          0.00                    0.3                   2.5          NaN  \n",
              "999997          0.00                    0.3                   2.5          NaN  \n",
              "\n",
              "[682522 rows x 18 columns]"
            ]
          },
          "execution_count": 11,
          "metadata": {},
          "output_type": "execute_result"
        }
      ],
      "source": [
        "data = raw_data.drop(['total_amount'], axis=1)\n",
        "data"
      ]
    },
    {
      "cell_type": "markdown",
      "metadata": {
        "id": "ETEeEOHIRdWS"
      },
      "source": [
        "We are dealing with a large dataset, thus we need to make sure we do not run out of memory. We can release the memory occupied by `raw_data` as we do not need it anymore.\n"
      ]
    },
    {
      "cell_type": "code",
      "execution_count": null,
      "metadata": {
        "id": "bEYR3QTVRdWS",
        "outputId": "a42f39c9-aa86-49e9-a3d9-d04d09e625f9"
      },
      "outputs": [
        {
          "data": {
            "text/plain": [
              "27"
            ]
          },
          "execution_count": 12,
          "metadata": {},
          "output_type": "execute_result"
        }
      ],
      "source": [
        "del raw_data\n",
        "gc.collect()"
      ]
    },
    {
      "cell_type": "markdown",
      "metadata": {
        "id": "4_BXmJYrRdWS"
      },
      "source": [
        "Print the number of trips left in the dataset:\n"
      ]
    },
    {
      "cell_type": "code",
      "execution_count": null,
      "metadata": {
        "id": "Ss8-AXnJRdWT",
        "outputId": "bbda8d60-ef94-4736-b21f-611263526f3f"
      },
      "outputs": [
        {
          "name": "stdout",
          "output_type": "stream",
          "text": [
            "There are 682522 observations in the dataset.\n",
            "There are 18 variables in the dataset.\n"
          ]
        }
      ],
      "source": [
        "print(\"There are \" + str(len(data)) + \" observations in the dataset.\")\n",
        "print(\"There are \" + str(len(data.columns)) + \" variables in the dataset.\")"
      ]
    },
    {
      "cell_type": "code",
      "execution_count": null,
      "metadata": {
        "id": "QWj4bB_qRdWT",
        "outputId": "88f5a634-3723-4b39-dcb3-83b5bc4268e9"
      },
      "outputs": [
        {
          "data": {
            "image/png": "[encoded data removed]",
            "text/plain": [
              "<Figure size 640x480 with 1 Axes>"
            ]
          },
          "metadata": {},
          "output_type": "display_data"
        }
      ],
      "source": [
        "plt.hist(data.tip_amount.values, 16, histtype='bar', facecolor='b')\n",
        "plt.show()"
      ]
    },
    {
      "cell_type": "code",
      "execution_count": null,
      "metadata": {
        "id": "y1Q_8wccRdWT",
        "outputId": "94a932d3-e9e3-48a6-b35f-474942d5db10"
      },
      "outputs": [
        {
          "name": "stdout",
          "output_type": "stream",
          "text": [
            "Minimum amount value is  0.01\n",
            "Maximum amount value is  91.0\n",
            "90% of the trips have a tip amount less or equal than  5.88\n"
          ]
        }
      ],
      "source": [
        "print(\"Minimum amount value is \", np.min(data.tip_amount.values))\n",
        "print(\"Maximum amount value is \", np.max(data.tip_amount.values))\n",
        "print(\"90% of the trips have a tip amount less or equal than \", np.percentile(data.tip_amount.values, 90))"
      ]
    },
    {
      "cell_type": "code",
      "execution_count": null,
      "metadata": {
        "id": "fZ8fae4oRdWT",
        "outputId": "b5ba03bc-c18e-4225-aaa8-5cc0c3661bf7"
      },
      "outputs": [
        {
          "data": {
            "text/html": [
              "<div>\n",
              "<style scoped>\n",
              "    .dataframe tbody tr th:only-of-type {\n",
              "        vertical-align: middle;\n",
              "    }\n",
              "\n",
              "    .dataframe tbody tr th {\n",
              "        vertical-align: top;\n",
              "    }\n",
              "\n",
              "    .dataframe thead th {\n",
              "        text-align: right;\n",
              "    }\n",
              "</style>\n",
              "<table border=\"1\" class=\"dataframe\">\n",
              "  <thead>\n",
              "    <tr style=\"text-align: right;\">\n",
              "      <th></th>\n",
              "      <th>VendorID</th>\n",
              "      <th>tpep_pickup_datetime</th>\n",
              "      <th>tpep_dropoff_datetime</th>\n",
              "      <th>passenger_count</th>\n",
              "      <th>trip_distance</th>\n",
              "      <th>RatecodeID</th>\n",
              "      <th>store_and_fwd_flag</th>\n",
              "      <th>PULocationID</th>\n",
              "      <th>DOLocationID</th>\n",
              "      <th>payment_type</th>\n",
              "      <th>fare_amount</th>\n",
              "      <th>extra</th>\n",
              "      <th>mta_tax</th>\n",
              "      <th>tip_amount</th>\n",
              "      <th>tolls_amount</th>\n",
              "      <th>improvement_surcharge</th>\n",
              "      <th>congestion_surcharge</th>\n",
              "      <th>airport_fee</th>\n",
              "    </tr>\n",
              "  </thead>\n",
              "  <tbody>\n",
              "    <tr>\n",
              "      <th>4</th>\n",
              "      <td>1</td>\n",
              "      <td>2019-06-01 0:03</td>\n",
              "      <td>2019-06-01 0:15</td>\n",
              "      <td>1</td>\n",
              "      <td>1.70</td>\n",
              "      <td>1</td>\n",
              "      <td>N</td>\n",
              "      <td>113</td>\n",
              "      <td>148</td>\n",
              "      <td>1</td>\n",
              "      <td>9.5</td>\n",
              "      <td>3.0</td>\n",
              "      <td>0.5</td>\n",
              "      <td>2.65</td>\n",
              "      <td>0.0</td>\n",
              "      <td>0.3</td>\n",
              "      <td>2.5</td>\n",
              "      <td>NaN</td>\n",
              "    </tr>\n",
              "    <tr>\n",
              "      <th>5</th>\n",
              "      <td>1</td>\n",
              "      <td>2019-06-01 0:28</td>\n",
              "      <td>2019-06-01 0:39</td>\n",
              "      <td>2</td>\n",
              "      <td>1.60</td>\n",
              "      <td>1</td>\n",
              "      <td>N</td>\n",
              "      <td>79</td>\n",
              "      <td>125</td>\n",
              "      <td>1</td>\n",
              "      <td>9.5</td>\n",
              "      <td>3.0</td>\n",
              "      <td>0.5</td>\n",
              "      <td>1.00</td>\n",
              "      <td>0.0</td>\n",
              "      <td>0.3</td>\n",
              "      <td>2.5</td>\n",
              "      <td>NaN</td>\n",
              "    </tr>\n",
              "    <tr>\n",
              "      <th>7</th>\n",
              "      <td>1</td>\n",
              "      <td>2019-06-01 0:54</td>\n",
              "      <td>2019-06-01 1:02</td>\n",
              "      <td>2</td>\n",
              "      <td>1.20</td>\n",
              "      <td>1</td>\n",
              "      <td>N</td>\n",
              "      <td>79</td>\n",
              "      <td>249</td>\n",
              "      <td>1</td>\n",
              "      <td>7.5</td>\n",
              "      <td>3.0</td>\n",
              "      <td>0.5</td>\n",
              "      <td>1.00</td>\n",
              "      <td>0.0</td>\n",
              "      <td>0.3</td>\n",
              "      <td>2.5</td>\n",
              "      <td>NaN</td>\n",
              "    </tr>\n",
              "    <tr>\n",
              "      <th>9</th>\n",
              "      <td>1</td>\n",
              "      <td>2019-06-01 0:29</td>\n",
              "      <td>2019-06-01 1:03</td>\n",
              "      <td>1</td>\n",
              "      <td>8.60</td>\n",
              "      <td>1</td>\n",
              "      <td>N</td>\n",
              "      <td>186</td>\n",
              "      <td>243</td>\n",
              "      <td>1</td>\n",
              "      <td>31.5</td>\n",
              "      <td>3.0</td>\n",
              "      <td>0.5</td>\n",
              "      <td>7.05</td>\n",
              "      <td>0.0</td>\n",
              "      <td>0.3</td>\n",
              "      <td>2.5</td>\n",
              "      <td>NaN</td>\n",
              "    </tr>\n",
              "    <tr>\n",
              "      <th>10</th>\n",
              "      <td>2</td>\n",
              "      <td>2019-06-01 0:01</td>\n",
              "      <td>2019-06-01 0:16</td>\n",
              "      <td>1</td>\n",
              "      <td>1.74</td>\n",
              "      <td>1</td>\n",
              "      <td>N</td>\n",
              "      <td>107</td>\n",
              "      <td>148</td>\n",
              "      <td>1</td>\n",
              "      <td>11.0</td>\n",
              "      <td>0.5</td>\n",
              "      <td>0.5</td>\n",
              "      <td>2.96</td>\n",
              "      <td>0.0</td>\n",
              "      <td>0.3</td>\n",
              "      <td>2.5</td>\n",
              "      <td>NaN</td>\n",
              "    </tr>\n",
              "  </tbody>\n",
              "</table>\n",
              "</div>"
            ],
            "text/plain": [
              "    VendorID tpep_pickup_datetime tpep_dropoff_datetime  passenger_count  \\\n",
              "4          1      2019-06-01 0:03       2019-06-01 0:15                1   \n",
              "5          1      2019-06-01 0:28       2019-06-01 0:39                2   \n",
              "7          1      2019-06-01 0:54       2019-06-01 1:02                2   \n",
              "9          1      2019-06-01 0:29       2019-06-01 1:03                1   \n",
              "10         2      2019-06-01 0:01       2019-06-01 0:16                1   \n",
              "\n",
              "    trip_distance  RatecodeID store_and_fwd_flag  PULocationID  DOLocationID  \\\n",
              "4            1.70           1                  N           113           148   \n",
              "5            1.60           1                  N            79           125   \n",
              "7            1.20           1                  N            79           249   \n",
              "9            8.60           1                  N           186           243   \n",
              "10           1.74           1                  N           107           148   \n",
              "\n",
              "    payment_type  fare_amount  extra  mta_tax  tip_amount  tolls_amount  \\\n",
              "4              1          9.5    3.0      0.5        2.65           0.0   \n",
              "5              1          9.5    3.0      0.5        1.00           0.0   \n",
              "7              1          7.5    3.0      0.5        1.00           0.0   \n",
              "9              1         31.5    3.0      0.5        7.05           0.0   \n",
              "10             1         11.0    0.5      0.5        2.96           0.0   \n",
              "\n",
              "    improvement_surcharge  congestion_surcharge  airport_fee  \n",
              "4                     0.3                   2.5          NaN  \n",
              "5                     0.3                   2.5          NaN  \n",
              "7                     0.3                   2.5          NaN  \n",
              "9                     0.3                   2.5          NaN  \n",
              "10                    0.3                   2.5          NaN  "
            ]
          },
          "execution_count": 16,
          "metadata": {},
          "output_type": "execute_result"
        }
      ],
      "source": [
        "# display first rows in the dataset\n",
        "data.head()"
      ]
    },
    {
      "cell_type": "markdown",
      "metadata": {
        "id": "ygOfhkGDRdWT"
      },
      "source": [
        "By looking at the dataset in more detail, we see that it contains information such as pick-up and drop-off dates/times, pick-up and drop-off locations, payment types, driver-reported passenger counts etc. \n",
        "\n",
        "Before actually training a ML model, we will need to preprocess the data. We need to transform the data in a format that will be correctly handled by the models. For instance, we need to **encode the categorical features**.\n"
      ]
    },
    {
      "cell_type": "markdown",
      "metadata": {
        "id": "01YkMVaxRdWU"
      },
      "source": [
        "## Data Preprocessing\n",
        "\n",
        "I have prepare the data for training. \n"
      ]
    },
    {
      "cell_type": "markdown",
      "metadata": {
        "id": "yXE_vK7tRdWU"
      },
      "source": [
        "Extract useful features such as pickup and dropoff hour, day of week, and trip duration in minutes.\n"
      ]
    },
    {
      "cell_type": "code",
      "execution_count": null,
      "metadata": {
        "id": "VJMBs03kRdWU"
      },
      "outputs": [],
      "source": [
        "data['tpep_dropoff_datetime'] = pd.to_datetime(data['tpep_dropoff_datetime'])\n",
        "data['tpep_pickup_datetime'] = pd.to_datetime(data['tpep_pickup_datetime'])\n",
        "\n",
        "# extract pickup and dropoff hour\n",
        "data['pickup_hour'] = data['tpep_pickup_datetime'].dt.hour\n",
        "data['dropoff_hour'] = data['tpep_dropoff_datetime'].dt.hour\n",
        "\n",
        "# extract pickup and dropoff day of week\n",
        "data['pickup_day'] = data['tpep_pickup_datetime'].dt.weekday\n",
        "data['dropoff_day'] = data['tpep_dropoff_datetime'].dt.weekday\n",
        "\n",
        "# compute trip time in minutes\n",
        "data['trip_time'] = (data['tpep_dropoff_datetime'] - data['tpep_pickup_datetime']).astype('timedelta64[m]')"
      ]
    },
    {
      "cell_type": "markdown",
      "metadata": {
        "id": "4HIiWCElRdWU"
      },
      "source": [
        "Drop the pickup and dropoff datetimes columns as well as the airport_fee column that contains all NaNs :\n"
      ]
    },
    {
      "cell_type": "code",
      "execution_count": null,
      "metadata": {
        "id": "R5bI69cFRdWU"
      },
      "outputs": [],
      "source": [
        "data = data.drop(['tpep_pickup_datetime', 'tpep_dropoff_datetime','airport_fee'], axis=1)"
      ]
    },
    {
      "cell_type": "markdown",
      "metadata": {
        "id": "S2h_U7DwRdWU"
      },
      "source": [
        "Some features are categorical, we need to encode them. To encode them we use one-hot encoding from the Pandas package.\n"
      ]
    },
    {
      "cell_type": "code",
      "execution_count": null,
      "metadata": {
        "id": "uvqCdt3ERdWU"
      },
      "outputs": [],
      "source": [
        "get_dummy_col = [\"VendorID\",\"RatecodeID\",\"store_and_fwd_flag\",\"PULocationID\", \"DOLocationID\",\"payment_type\", \"pickup_hour\", \"dropoff_hour\", \"pickup_day\", \"dropoff_day\"]\n",
        "proc_data = pd.get_dummies(data, columns = get_dummy_col)"
      ]
    },
    {
      "cell_type": "markdown",
      "metadata": {
        "id": "NckvtN_4RdWU"
      },
      "source": [
        "Since we will be working with hundreds of one-hot encoded columns or dummy variables, to make sure we do not run into out of memory issue, we release memory occupied by `data` as we do not need it anymore.\n"
      ]
    },
    {
      "cell_type": "code",
      "execution_count": null,
      "metadata": {
        "id": "U1KvAaF1RdWU",
        "outputId": "ab8a6a54-ffab-4a7e-b447-b7af01f6ced8"
      },
      "outputs": [
        {
          "data": {
            "text/plain": [
              "3731"
            ]
          },
          "execution_count": 20,
          "metadata": {},
          "output_type": "execute_result"
        }
      ],
      "source": [
        "del data\n",
        "gc.collect()"
      ]
    },
    {
      "cell_type": "markdown",
      "metadata": {
        "id": "UQnROm-SRdWV"
      },
      "source": [
        "Let's examine the data types of `proc_data` using `proc_data.info()`.\n"
      ]
    },
    {
      "cell_type": "code",
      "execution_count": null,
      "metadata": {
        "id": "Ptx6C9-GRdWV",
        "outputId": "cf5c6b8c-1a58-4a63-9282-6c832903c27e"
      },
      "outputs": [
        {
          "name": "stdout",
          "output_type": "stream",
          "text": [
            "<class 'pandas.core.frame.DataFrame'>\n",
            "Int64Index: 682522 entries, 4 to 999997\n",
            "Columns: 562 entries, passenger_count to dropoff_day_6\n",
            "dtypes: float64(9), int64(1), uint8(552)\n",
            "memory usage: 416.6 MB\n"
          ]
        }
      ],
      "source": [
        "proc_data.info()"
      ]
    },
    {
      "cell_type": "markdown",
      "metadata": {
        "id": "-dEwUBmaRdWV"
      },
      "source": [
        "\n"
      ]
    },
    {
      "cell_type": "code",
      "execution_count": null,
      "metadata": {
        "id": "lXNrb9B9RdWV",
        "outputId": "97aa092b-00b5-4f89-fba0-92d9cf52719e"
      },
      "outputs": [
        {
          "name": "stdout",
          "output_type": "stream",
          "text": [
            "<class 'pandas.core.frame.DataFrame'>\n",
            "Int64Index: 682522 entries, 4 to 999997\n",
            "Columns: 562 entries, passenger_count to dropoff_day_6\n",
            "dtypes: float32(9), int8(1), uint8(552)\n",
            "memory usage: 388.6 MB\n"
          ]
        }
      ],
      "source": [
        "# use helper function \"memory_optimize\"\n",
        "proc_data = memory_optimize(proc_data)\n",
        "\n",
        "# data types are converted and the memory usage reduced\n",
        "proc_data.info()"
      ]
    },
    {
      "cell_type": "markdown",
      "metadata": {
        "id": "hlR3lTX2RdWV"
      },
      "source": [
        "Extract the labels from the dataframe:\n"
      ]
    },
    {
      "cell_type": "code",
      "execution_count": null,
      "metadata": {
        "id": "hK_Z4C8YRdWV"
      },
      "outputs": [],
      "source": [
        "y = proc_data[['tip_amount']].values\n",
        "\n",
        "# drop the target variable from the feature matrix\n",
        "proc_data = proc_data.drop(['tip_amount'], axis=1)\n"
      ]
    },
    {
      "cell_type": "markdown",
      "metadata": {
        "id": "KpkHwm6kRdWV"
      },
      "source": [
        "Now we get the feature matrix used for training in the format of numpy arrays and the normalize the feature matrix. We assign the feature matrix to `X` and release the memory occupied by `proc_data` before proceeding.\n"
      ]
    },
    {
      "cell_type": "code",
      "execution_count": null,
      "metadata": {
        "id": "ZzAKVm-8RdWW",
        "outputId": "afe4311c-43e9-49f4-bd43-ab53b3d5f9cd"
      },
      "outputs": [
        {
          "data": {
            "text/plain": [
              "23"
            ]
          },
          "execution_count": 24,
          "metadata": {},
          "output_type": "execute_result"
        }
      ],
      "source": [
        "X = proc_data.values\n",
        "\n",
        "del proc_data\n",
        "gc.collect()"
      ]
    },
    {
      "cell_type": "code",
      "execution_count": null,
      "metadata": {
        "id": "Xqg3i2VhRdWW",
        "outputId": "f6623052-92aa-4ca3-c871-a79755ccd650"
      },
      "outputs": [
        {
          "name": "stdout",
          "output_type": "stream",
          "text": [
            "X.shape= (682522, 561) y.shape= (682522, 1)\n"
          ]
        }
      ],
      "source": [
        "# normalize the feature matrix\n",
        "normalizer = Normalizer(norm='l1').fit(X)\n",
        "X = normalizer.transform(X)\n",
        "\n",
        "# print the shape of the features matrix and the labels vector\n",
        "print('X.shape=', X.shape, 'y.shape=', y.shape)"
      ]
    },
    {
      "cell_type": "markdown",
      "metadata": {
        "id": "b8G-9ihRRdWW"
      },
      "source": [
        "## Dataset Train/Test Split\n"
      ]
    },
    {
      "cell_type": "markdown",
      "metadata": {
        "id": "zs0rFoM4RdWW"
      },
      "source": [
        "Now that the dataset is ready for building the classification models, we need to first divide the pre-processed dataset into a subset to be used for training the model (the **train set**) and a subset to be used for evaluating the quality of the model (the **test set**).\n"
      ]
    },
    {
      "cell_type": "code",
      "execution_count": null,
      "metadata": {
        "id": "AWv6ltziRdWW",
        "outputId": "ae464d90-8038-46c7-cd45-d55fb815414e"
      },
      "outputs": [
        {
          "name": "stdout",
          "output_type": "stream",
          "text": [
            "X_train.shape= (477765, 561) Y_train.shape= (477765, 1)\n",
            "X_test.shape= (204757, 561) Y_test.shape= (204757, 1)\n"
          ]
        }
      ],
      "source": [
        "X_train, X_test, y_train, y_test = train_test_split(X, y, test_size=0.3, random_state=42)\n",
        "print('X_train.shape=', X_train.shape, 'Y_train.shape=', y_train.shape)\n",
        "print('X_test.shape=', X_test.shape, 'Y_test.shape=', y_test.shape)"
      ]
    },
    {
      "cell_type": "code",
      "execution_count": null,
      "metadata": {
        "id": "HdY5sLsVRdWX",
        "outputId": "165ed24b-39b2-489d-a16f-7f1aeabaa94c"
      },
      "outputs": [
        {
          "data": {
            "text/plain": [
              "69"
            ]
          },
          "execution_count": 27,
          "metadata": {},
          "output_type": "execute_result"
        }
      ],
      "source": [
        "del X, y\n",
        "gc.collect()"
      ]
    },
    {
      "cell_type": "markdown",
      "metadata": {
        "id": "9n-lHFfsRdWX"
      },
      "source": [
        "## Build a Decision Tree Regressor model with Scikit-Learn\n"
      ]
    },
    {
      "cell_type": "markdown",
      "metadata": {
        "id": "ldh32mEmRdWX"
      },
      "source": [
        "Import the Decision Tree Regression Model from scikit-learn.\n"
      ]
    },
    {
      "cell_type": "code",
      "execution_count": null,
      "metadata": {
        "id": "KvEwzUMKRdWX"
      },
      "outputs": [],
      "source": [
        "from sklearn.tree import DecisionTreeRegressor"
      ]
    },
    {
      "cell_type": "markdown",
      "metadata": {
        "id": "_oAEljfxRdWX"
      },
      "source": [
        "For reproducible output across multiple function calls, set random_state to an integer value.\n"
      ]
    },
    {
      "cell_type": "code",
      "execution_count": null,
      "metadata": {
        "id": "8hz2znIDRdWX"
      },
      "outputs": [],
      "source": [
        "sklearn_dt = DecisionTreeRegressor(max_depth=8, random_state=35)"
      ]
    },
    {
      "cell_type": "markdown",
      "metadata": {
        "id": "dIoDe_qeRdWY"
      },
      "source": [
        "Train a Decision Tree Regressor using scikit-learn and use the `time` function to record the training time.\n"
      ]
    },
    {
      "cell_type": "code",
      "execution_count": null,
      "metadata": {
        "id": "Awoq1Hj9RdWY",
        "outputId": "8f23bac6-5868-4d51-ebf8-d19f14100dbf"
      },
      "outputs": [
        {
          "name": "stdout",
          "output_type": "stream",
          "text": [
            "[Scikit-Learn] Training time (s):  42.42273\n"
          ]
        }
      ],
      "source": [
        "t0 = time.time()\n",
        "sklearn_dt.fit(X_train, y_train)\n",
        "sklearn_time = time.time()-t0\n",
        "print(\"[Scikit-Learn] Training time (s):  {0:.5f}\".format(sklearn_time))"
      ]
    },
    {
      "cell_type": "markdown",
      "metadata": {
        "id": "sUceE5HSRdWY"
      },
      "source": [
        "## Build a Decision Tree Regressor model with Snap ML\n"
      ]
    },
    {
      "cell_type": "markdown",
      "metadata": {
        "id": "hKRNFY2cRdWY"
      },
      "source": [
        "Import the Decision Tree Regressor Model from **Snap ML**.\n"
      ]
    },
    {
      "cell_type": "code",
      "execution_count": null,
      "metadata": {
        "id": "YE9TGT6JRdWY"
      },
      "outputs": [],
      "source": [
        "from snapml import DecisionTreeRegressor"
      ]
    },
    {
      "cell_type": "markdown",
      "metadata": {
        "id": "YXAa8mPiRdWY"
      },
      "source": [
        "In contrast to sklearn's Decision Tree, Snap ML offers multi-threaded CPU/GPU training. To use the GPU, one needs to set the parameter `use_gpu = True`:\n",
        "\n",
        "`snapml_dt = DecisionTreeRegressor(max_depth=4, random_state=45, use_gpu=True)`\n",
        "\n",
        "To set the number of CPU threads used at training time, one needs to set the `n_jobs` parameter. For reproducible output across multiple function calls, set `random_state` to an integer value.\n"
      ]
    },
    {
      "cell_type": "code",
      "execution_count": null,
      "metadata": {
        "id": "da2NXd2rRdWY"
      },
      "outputs": [],
      "source": [
        "snapml_dt = DecisionTreeRegressor(max_depth=8, random_state=45, n_jobs=2)"
      ]
    },
    {
      "cell_type": "markdown",
      "metadata": {
        "id": "_LmkHNESRdWY"
      },
      "source": [
        "Train a Decision Tree Regressor model using Snap ML.\n"
      ]
    },
    {
      "cell_type": "code",
      "execution_count": null,
      "metadata": {
        "id": "bl_biBg7RdWZ",
        "outputId": "9e07b066-192e-4195-d88c-a3b07f4770bd"
      },
      "outputs": [
        {
          "name": "stdout",
          "output_type": "stream",
          "text": [
            "[Snap ML] Training time (s):  20.03494\n"
          ]
        }
      ],
      "source": [
        "t0 = time.time()\n",
        "snapml_dt.fit(X_train, y_train)\n",
        "snapml_time = time.time()-t0\n",
        "print(\"[Snap ML] Training time (s):  {0:.5f}\".format(snapml_time))"
      ]
    },
    {
      "cell_type": "markdown",
      "metadata": {
        "id": "wNezAe6yRdWZ"
      },
      "source": [
        "## Evaluate the Scikit-Learn and Snap ML Decision Tree Regressor Models\n"
      ]
    },
    {
      "cell_type": "markdown",
      "metadata": {
        "id": "xqC0ogkkRdWZ"
      },
      "source": [
        "Let's examine the Snap ML vs Scikit-Learn training speedup:\n"
      ]
    },
    {
      "cell_type": "code",
      "execution_count": null,
      "metadata": {
        "id": "3XuHely0RdWZ",
        "outputId": "eeedd506-e2e4-493a-effa-2edbca0ccf0f"
      },
      "outputs": [
        {
          "name": "stdout",
          "output_type": "stream",
          "text": [
            "[Decision Tree Regressor] Snap ML vs. Scikit-Learn speedup : 2.12x \n"
          ]
        }
      ],
      "source": [
        "training_speedup = sklearn_time/snapml_time\n",
        "print('[Decision Tree Regressor] Snap ML vs. Scikit-Learn speedup : {0:.2f}x '.format(training_speedup))"
      ]
    },
    {
      "cell_type": "markdown",
      "metadata": {
        "id": "wzKjplopRdWZ"
      },
      "source": [
        "We can run inference using the sklearn model:\n"
      ]
    },
    {
      "cell_type": "code",
      "execution_count": null,
      "metadata": {
        "id": "_x7kCD2GRdWZ"
      },
      "outputs": [],
      "source": [
        "sklearn_pred = sklearn_dt.predict(X_test)"
      ]
    },
    {
      "cell_type": "markdown",
      "metadata": {
        "id": "yo8qvRdVRdWa"
      },
      "source": [
        "Evaluate mean squared error on the test dataset:\n"
      ]
    },
    {
      "cell_type": "code",
      "execution_count": null,
      "metadata": {
        "id": "KMAKCBfdRdWa",
        "outputId": "b1076e82-1d41-44bc-9b96-ef76384f4e72"
      },
      "outputs": [
        {
          "name": "stdout",
          "output_type": "stream",
          "text": [
            "[Scikit-Learn] MSE score : 1.741\n"
          ]
        }
      ],
      "source": [
        "sklearn_mse = mean_squared_error(y_test, sklearn_pred)\n",
        "print('[Scikit-Learn] MSE score : {0:.3f}'.format(sklearn_mse))"
      ]
    },
    {
      "cell_type": "markdown",
      "metadata": {
        "id": "aK-2fDBKRdWa"
      },
      "source": [
        "Run inference using the Snap ML model:\n"
      ]
    },
    {
      "cell_type": "code",
      "execution_count": null,
      "metadata": {
        "id": "jCgC17IwRdWa"
      },
      "outputs": [],
      "source": [
        "snapml_pred = snapml_dt.predict(X_test)"
      ]
    },
    {
      "cell_type": "markdown",
      "metadata": {
        "id": "9xlBHEbvRdWa"
      },
      "source": [
        "Evaluate mean squared error on the test dataset:\n"
      ]
    },
    {
      "cell_type": "code",
      "execution_count": null,
      "metadata": {
        "id": "wKaDo_gPRdWa",
        "outputId": "d677a02c-b2ae-41b8-ebdb-652813a30c7b"
      },
      "outputs": [
        {
          "name": "stdout",
          "output_type": "stream",
          "text": [
            "[Snap ML] MSE score : 1.667\n"
          ]
        }
      ],
      "source": [
        "snapml_mse = mean_squared_error(y_test, snapml_pred)\n",
        "print('[Snap ML] MSE score : {0:.3f}'.format(snapml_mse))"
      ]
    },
    {
      "cell_type": "markdown",
      "metadata": {
        "id": "fBMQiCfsRdWa"
      },
      "source": [
        "As shown above both decision tree models provide the similar score on the test dataset. However Snap ML runs the training routine faster than Scikit-Learn. \n",
        "\n",
        "This is one of the advantages of using Snap ML: **acceleration of training of classical machine learning models, such as linear and tree-based models**\n"
      ]
    },
    {
      "cell_type": "markdown",
      "metadata": {
        "id": "x5VvTZT1RdWa"
      },
      "source": [
        "\n"
      ]
    },
    {
      "cell_type": "markdown",
      "metadata": {
        "id": "u1m-3EciRdWb"
      },
      "source": []
    },
    {
      "cell_type": "markdown",
      "metadata": {
        "id": "3SmYHgLhRdWb"
      },
      "source": [
        "\n"
      ]
    },
    {
      "cell_type": "markdown",
      "metadata": {
        "id": "zGcy4X4ZRdWb"
      },
      "source": [
        "\n"
      ]
    },
    {
      "cell_type": "markdown",
      "metadata": {
        "id": "qEDRppMERdWb"
      },
      "source": [
        "\n"
      ]
    },
    {
      "cell_type": "markdown",
      "metadata": {
        "id": "MOz7oZbGRdWb"
      },
      "source": [
        "\n"
      ]
    },
    {
      "cell_type": "markdown",
      "metadata": {
        "id": "TSKrVCPORdWb"
      },
      "source": []
    }
  ],
  "metadata": {
    "kernelspec": {
      "display_name": "Python",
      "language": "python",
      "name": "conda-env-python-py"
    },
    "language_info": {
      "codemirror_mode": {
        "name": "ipython",
        "version": 3
      },
      "file_extension": ".py",
      "mimetype": "text/x-python",
      "name": "python",
      "nbconvert_exporter": "python",
      "pygments_lexer": "ipython3",
      "version": "3.7.12"
    },
    "colab": {
      "provenance": [],
      "include_colab_link": true
    }
  },
  "nbformat": 4,
  "nbformat_minor": 0
}